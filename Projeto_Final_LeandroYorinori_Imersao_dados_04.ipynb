{
 "cells": [
  {
   "cell_type": "markdown",
   "source": [
    "**Análise de Dados de anúncios de imóveis de São Paulo**\n",
    "=============="
   ],
   "metadata": {}
  },
  {
   "cell_type": "markdown",
   "source": [
    "![Teste](https://cdn.pixabay.com/photo/2016/02/11/23/03/sao-paulo-1194935_960_720.jpg)\n",
    "\n",
    "Imagem de <a href=\"https://pixabay.com/pt/users/joelfotos-767874/?utm_source=link-attribution&amp;utm_medium=referral&amp;utm_campaign=image&amp;utm_content=1194935\">Joel santana Joelfotos</a> por <a href=\"https://pixabay.com/pt/?utm_source=link-attribution&amp;utm_medium=referral&amp;utm_campaign=image&amp;utm_content=1194935\">Pixabay</a>"
   ],
   "metadata": {}
  },
  {
   "cell_type": "markdown",
   "source": [
    "# **Imersão Dados 04 - Alura**\n",
    "\n",
    "**Autor:** *Leandro H. S. Yorinori*"
   ],
   "metadata": {}
  },
  {
   "cell_type": "markdown",
   "source": [
    "Sumário\n",
    "\n"
   ],
   "metadata": {}
  },
  {
   "cell_type": "markdown",
   "source": [
    "# 01. Introdução"
   ],
   "metadata": {}
  },
  {
   "cell_type": "markdown",
   "source": [
    "## 01.01. A inspiração do projeto"
   ],
   "metadata": {}
  },
  {
   "cell_type": "markdown",
   "source": [
    "Este projeto é inspirado na Imersão Dados 04 da [Alura](https://www.alura.com.br/), que ocorreu entre os dias 23 e 27 de maio de 2022. Durante a imersão foram disponibilizadas 05 aulas gratuitas com o intuito de dar os primeiros passos ou se aprofundar no universo da Ciência de Dados. As aulas trouxeram assuntos relevantes tanto para quem estava iniciando na área ou mesmo para pessoas com experiência em Ciência de Dados. Os temas abordados nas aulas foram os seguintes.\n",
    "\n",
    "- Aula 01: Seu primeiro Colab com Python e Pandas;\n",
    "<br><br>\n",
    "- Aula 02: Tratamento de dados e primeiros gráficos;\n",
    "<br><br>\n",
    "- Aula 03: Gráficos, time series e análise exploratória;\n",
    "<br><br>\n",
    "- Aula 04: Missão impossível: Cruzando bases de dados;\n",
    "<br><br>\n",
    "- Aula 05: Machine Learning\n",
    "\n",
    "Ao final de cada aula foram propostos desafios para buscar um melhor entendimento sobre os conhecimentos passados em aula e para procurar pistas sobre os próximos passos a serem dados durante a análise.\n",
    "\n",
    "O tema abordado na imersão Dados 4 da [Alura](https://www.alura.com.br/) estava relacionado ao Mercado Imobiliário. A principal base de dados fornecida durante a imersão está relacionada com dados de anúncios de imóveis da cidade de São Paulo."
   ],
   "metadata": {}
  },
  {
   "cell_type": "markdown",
   "source": [
    "## 01.02. O Problema a ser resolvido "
   ],
   "metadata": {}
  },
  {
   "cell_type": "markdown",
   "source": [
    "O objetivo deste projeto é criar um **modelo de regressão** para **predição** do Valor de anúncio de um imóvel baseado em algumas de suas características. Este modelo será construído utilizando técnicas de **Machine Learning** sobre uma Base de Dados construída através de diversos procedimentos de limpeza e tratamento de dados. Para uma análise mais aprofundada, diferentes bases de dados foram relacionadas para aumentar a complexidade do modelo.  "
   ],
   "metadata": {}
  },
  {
   "cell_type": "markdown",
   "source": [
    "# 02. Análise Exploratória dos Dados"
   ],
   "metadata": {}
  },
  {
   "cell_type": "markdown",
   "source": [
    "Segundo a [Escola de Dados](https://escoladedados.org/), \"o objetivo da Análise Exploratória de Dados (AED) é utilizar síntese estatística e técnicas de visualização para entender melhor os dados e identificar insights sobre tendências e a qualidade dos dados, bem como para formular hipóteses e fazer suposições nas análises. Análise exploratória de dados NÃO SE TRATA de elaborar visualizações sofisticadas ou mesmo esteticamente agradáveis. O objetivo é fazer testes e encontrar respostas com os dados. [[1]](https://escoladedados.org/tutoriais/analise-exploratoria-de-dados/)\"."
   ],
   "metadata": {}
  },
  {
   "cell_type": "markdown",
   "source": [
    "## 02.01. Bibliotecas utilizadas"
   ],
   "metadata": {}
  },
  {
   "cell_type": "markdown",
   "source": [
    "### Principais bibliotecas utilizadas"
   ],
   "metadata": {}
  },
  {
   "cell_type": "code",
   "execution_count": 214,
   "source": [
    "import pandas as pd\n",
    "import matplotlib.pyplot as plt\n",
    "import seaborn as sns\n",
    "import numpy as np\n"
   ],
   "outputs": [],
   "metadata": {}
  },
  {
   "cell_type": "markdown",
   "source": [
    "### Instalação e importação de bibliotecas menos usuais"
   ],
   "metadata": {}
  },
  {
   "cell_type": "code",
   "execution_count": 215,
   "source": [
    "#!pip install shapely\n",
    "#!pip install geopandas\n",
    "\n",
    "from shapely.geometry import Point\n",
    "import geopandas as gpd"
   ],
   "outputs": [],
   "metadata": {}
  },
  {
   "cell_type": "markdown",
   "source": [
    "Configurando algumas opções das bibliotecas importadas"
   ],
   "metadata": {}
  },
  {
   "cell_type": "code",
   "execution_count": 216,
   "source": [
    "# 2 casas decimais de precisão\n",
    "pd.set_option(\"display.precision\", 2)\n",
    "\n",
    "# formatação expandida com 2 casas decimais de precisão\n",
    "pd.set_option('display.float_format', lambda x: '%.2f' % x)\n",
    "\n",
    "# configuração do seaborn\n",
    "sns.set()\n",
    "\n",
    "# Suprimir o SettingWithCopyWarning\n",
    "pd.set_option('mode.chained_assignment', None)"
   ],
   "outputs": [],
   "metadata": {}
  },
  {
   "cell_type": "markdown",
   "source": [
    "## 02.02. Leitura dos dados "
   ],
   "metadata": {}
  },
  {
   "cell_type": "markdown",
   "source": [
    "Todas as bases de dados utilizadas neste projeto foram disponibilizadas pela própria Alura. Para começar, apenas a Base de dados principal será importada (Dados de anúncio de imóveis de São Paulo), sobre a qual será realizada a Análise Exploratória de Dados. A importação será feita através do link direto dos dados no [GitHub](\"https://gist.githubusercontent.com/tgcsantos/3bdb29eba6ce391e90df2b72205ba891/raw/22fa920e80c9fa209a9fccc8b52d74cc95d1599b/dados_imoveis.csv\").\n",
    "\n",
    "(Há a ressalva de que outras bases de dados serão importadas futuramente para o cruzamento de dados pertinentes. Estas serão importadas ao longo do Notebook, conforme a necessidade.)"
   ],
   "metadata": {}
  },
  {
   "cell_type": "code",
   "execution_count": 217,
   "source": [
    "url = \"https://gist.githubusercontent.com/tgcsantos/3bdb29eba6ce391e90df2b72205ba891/raw/22fa920e80c9fa209a9fccc8b52d74cc95d1599b/dados_imoveis.csv\"\n",
    "\n",
    "# Leitura do arquivo csv\n",
    "df_raw = pd.read_csv(url)"
   ],
   "outputs": [],
   "metadata": {}
  },
  {
   "cell_type": "code",
   "execution_count": 218,
   "source": [
    "# Visualização do cabeçalho do DataFrame\n",
    "df_raw.head()"
   ],
   "outputs": [
    {
     "output_type": "execute_result",
     "data": {
      "text/html": [
       "<div>\n",
       "<style scoped>\n",
       "    .dataframe tbody tr th:only-of-type {\n",
       "        vertical-align: middle;\n",
       "    }\n",
       "\n",
       "    .dataframe tbody tr th {\n",
       "        vertical-align: top;\n",
       "    }\n",
       "\n",
       "    .dataframe thead th {\n",
       "        text-align: right;\n",
       "    }\n",
       "</style>\n",
       "<table border=\"1\" class=\"dataframe\">\n",
       "  <thead>\n",
       "    <tr style=\"text-align: right;\">\n",
       "      <th></th>\n",
       "      <th>Rua</th>\n",
       "      <th>Bairro</th>\n",
       "      <th>Cidade</th>\n",
       "      <th>Metragem</th>\n",
       "      <th>Quartos</th>\n",
       "      <th>Banheiros</th>\n",
       "      <th>Vagas</th>\n",
       "      <th>Valor</th>\n",
       "    </tr>\n",
       "  </thead>\n",
       "  <tbody>\n",
       "    <tr>\n",
       "      <th>0</th>\n",
       "      <td>Avenida Itacira, 255</td>\n",
       "      <td>Planalto Paulista</td>\n",
       "      <td>São Paulo</td>\n",
       "      <td>1000</td>\n",
       "      <td>4</td>\n",
       "      <td>8</td>\n",
       "      <td>6</td>\n",
       "      <td>R$ 7.000.000</td>\n",
       "    </tr>\n",
       "    <tr>\n",
       "      <th>1</th>\n",
       "      <td>Rua Aurelia Perez Alvarez, 42</td>\n",
       "      <td>Jardim dos Estados</td>\n",
       "      <td>São Paulo</td>\n",
       "      <td>496</td>\n",
       "      <td>4</td>\n",
       "      <td>4</td>\n",
       "      <td>4</td>\n",
       "      <td>R$ 3.700.000</td>\n",
       "    </tr>\n",
       "    <tr>\n",
       "      <th>2</th>\n",
       "      <td>Rua Alba Valdez</td>\n",
       "      <td>Jardim Reimberg</td>\n",
       "      <td>São Paulo</td>\n",
       "      <td>125</td>\n",
       "      <td>4</td>\n",
       "      <td>3</td>\n",
       "      <td>2</td>\n",
       "      <td>R$ 380.000</td>\n",
       "    </tr>\n",
       "    <tr>\n",
       "      <th>3</th>\n",
       "      <td>NaN</td>\n",
       "      <td>Jardim Morumbi</td>\n",
       "      <td>São Paulo</td>\n",
       "      <td>310</td>\n",
       "      <td>3</td>\n",
       "      <td>2</td>\n",
       "      <td>4</td>\n",
       "      <td>R$ 685.000</td>\n",
       "    </tr>\n",
       "    <tr>\n",
       "      <th>4</th>\n",
       "      <td>Rua Tobias Barreto, 195</td>\n",
       "      <td>Mooca</td>\n",
       "      <td>São Paulo</td>\n",
       "      <td>100</td>\n",
       "      <td>3</td>\n",
       "      <td>2</td>\n",
       "      <td>2</td>\n",
       "      <td>R$ 540.000</td>\n",
       "    </tr>\n",
       "  </tbody>\n",
       "</table>\n",
       "</div>"
      ],
      "text/plain": [
       "                              Rua              Bairro     Cidade  Metragem  \\\n",
       "0           Avenida Itacira, 255    Planalto Paulista  São Paulo      1000   \n",
       "1  Rua Aurelia Perez Alvarez, 42   Jardim dos Estados  São Paulo       496   \n",
       "2                 Rua Alba Valdez     Jardim Reimberg  São Paulo       125   \n",
       "3                             NaN      Jardim Morumbi  São Paulo       310   \n",
       "4        Rua Tobias Barreto, 195                Mooca  São Paulo       100   \n",
       "\n",
       "   Quartos  Banheiros  Vagas         Valor  \n",
       "0        4          8      6  R$ 7.000.000  \n",
       "1        4          4      4  R$ 3.700.000  \n",
       "2        4          3      2    R$ 380.000  \n",
       "3        3          2      4    R$ 685.000  \n",
       "4        3          2      2    R$ 540.000  "
      ]
     },
     "metadata": {},
     "execution_count": 218
    }
   ],
   "metadata": {}
  },
  {
   "cell_type": "markdown",
   "source": [
    "## 02.03 Exploração, Tratamento e Limpeza de dados"
   ],
   "metadata": {}
  },
  {
   "cell_type": "markdown",
   "source": [
    "### Tratamento de dados nulos e de tipagem de dados"
   ],
   "metadata": {}
  },
  {
   "cell_type": "markdown",
   "source": [
    "Uma primeira investigação que pode ser feita é sobre o tipo dos dados e a quantidade de dados não nulos por coluna do DataFrame. O método `info()` nos fornece isto"
   ],
   "metadata": {}
  },
  {
   "cell_type": "code",
   "execution_count": 219,
   "source": [
    "df_raw.info()"
   ],
   "outputs": [
    {
     "output_type": "stream",
     "name": "stdout",
     "text": [
      "<class 'pandas.core.frame.DataFrame'>\n",
      "RangeIndex: 10008 entries, 0 to 10007\n",
      "Data columns (total 8 columns):\n",
      " #   Column     Non-Null Count  Dtype \n",
      "---  ------     --------------  ----- \n",
      " 0   Rua        6574 non-null   object\n",
      " 1   Bairro     9996 non-null   object\n",
      " 2   Cidade     10008 non-null  object\n",
      " 3   Metragem   10008 non-null  int64 \n",
      " 4   Quartos    10008 non-null  int64 \n",
      " 5   Banheiros  10008 non-null  int64 \n",
      " 6   Vagas      10008 non-null  int64 \n",
      " 7   Valor      10008 non-null  object\n",
      "dtypes: int64(4), object(4)\n",
      "memory usage: 625.6+ KB\n"
     ]
    }
   ],
   "metadata": {}
  },
  {
   "cell_type": "markdown",
   "source": [
    "Nota-se que as colunas Rua e Bairro apresentam dados nulos. Além disto, a coluna 'Valor' apresenta o tipo objeto. O esperado seria que o tipo fosse de espécie numérica. Isto indica que provavelmente será necessário aplicar algum tipo de tratamento nesta coluna 'Valor' para transformá-la em um tipo numérico."
   ],
   "metadata": {}
  },
  {
   "cell_type": "markdown",
   "source": [
    "Ao buscar um elemento da coluna 'Valor' vemos que ele aparenta ser uma string."
   ],
   "metadata": {}
  },
  {
   "cell_type": "code",
   "execution_count": 220,
   "source": [
    "df_raw[\"Valor\"][0]"
   ],
   "outputs": [
    {
     "output_type": "execute_result",
     "data": {
      "text/plain": [
       "'R$ 7.000.000'"
      ]
     },
     "metadata": {},
     "execution_count": 220
    }
   ],
   "metadata": {}
  },
  {
   "cell_type": "markdown",
   "source": [
    "Podemos confirmar sua tipagem utilizando o comando `type`"
   ],
   "metadata": {}
  },
  {
   "cell_type": "code",
   "execution_count": 221,
   "source": [
    "type(df_raw[\"Valor\"][0])"
   ],
   "outputs": [
    {
     "output_type": "execute_result",
     "data": {
      "text/plain": [
       "str"
      ]
     },
     "metadata": {},
     "execution_count": 221
    }
   ],
   "metadata": {}
  },
  {
   "cell_type": "markdown",
   "source": [
    "E como esperado, a variável é do tipo string. "
   ],
   "metadata": {}
  },
  {
   "cell_type": "markdown",
   "source": [
    "Podemos utilizar o método `split` para separar o R$ do 'número' e o argumento `expand=True` para criar um data frame das com as divisões realizadas pelo método `split`."
   ],
   "metadata": {}
  },
  {
   "cell_type": "code",
   "execution_count": 222,
   "source": [
    "df_raw[\"Valor\"].str.split(expand=True)"
   ],
   "outputs": [
    {
     "output_type": "execute_result",
     "data": {
      "text/html": [
       "<div>\n",
       "<style scoped>\n",
       "    .dataframe tbody tr th:only-of-type {\n",
       "        vertical-align: middle;\n",
       "    }\n",
       "\n",
       "    .dataframe tbody tr th {\n",
       "        vertical-align: top;\n",
       "    }\n",
       "\n",
       "    .dataframe thead th {\n",
       "        text-align: right;\n",
       "    }\n",
       "</style>\n",
       "<table border=\"1\" class=\"dataframe\">\n",
       "  <thead>\n",
       "    <tr style=\"text-align: right;\">\n",
       "      <th></th>\n",
       "      <th>0</th>\n",
       "      <th>1</th>\n",
       "      <th>2</th>\n",
       "    </tr>\n",
       "  </thead>\n",
       "  <tbody>\n",
       "    <tr>\n",
       "      <th>0</th>\n",
       "      <td>R$</td>\n",
       "      <td>7.000.000</td>\n",
       "      <td>None</td>\n",
       "    </tr>\n",
       "    <tr>\n",
       "      <th>1</th>\n",
       "      <td>R$</td>\n",
       "      <td>3.700.000</td>\n",
       "      <td>None</td>\n",
       "    </tr>\n",
       "    <tr>\n",
       "      <th>2</th>\n",
       "      <td>R$</td>\n",
       "      <td>380.000</td>\n",
       "      <td>None</td>\n",
       "    </tr>\n",
       "    <tr>\n",
       "      <th>3</th>\n",
       "      <td>R$</td>\n",
       "      <td>685.000</td>\n",
       "      <td>None</td>\n",
       "    </tr>\n",
       "    <tr>\n",
       "      <th>4</th>\n",
       "      <td>R$</td>\n",
       "      <td>540.000</td>\n",
       "      <td>None</td>\n",
       "    </tr>\n",
       "    <tr>\n",
       "      <th>...</th>\n",
       "      <td>...</td>\n",
       "      <td>...</td>\n",
       "      <td>...</td>\n",
       "    </tr>\n",
       "    <tr>\n",
       "      <th>10003</th>\n",
       "      <td>R$</td>\n",
       "      <td>665.000</td>\n",
       "      <td>None</td>\n",
       "    </tr>\n",
       "    <tr>\n",
       "      <th>10004</th>\n",
       "      <td>R$</td>\n",
       "      <td>2.300.000</td>\n",
       "      <td>None</td>\n",
       "    </tr>\n",
       "    <tr>\n",
       "      <th>10005</th>\n",
       "      <td>R$</td>\n",
       "      <td>1.050.000</td>\n",
       "      <td>None</td>\n",
       "    </tr>\n",
       "    <tr>\n",
       "      <th>10006</th>\n",
       "      <td>R$</td>\n",
       "      <td>2.200</td>\n",
       "      <td>/Mês</td>\n",
       "    </tr>\n",
       "    <tr>\n",
       "      <th>10007</th>\n",
       "      <td>R$</td>\n",
       "      <td>270.000</td>\n",
       "      <td>None</td>\n",
       "    </tr>\n",
       "  </tbody>\n",
       "</table>\n",
       "<p>10008 rows × 3 columns</p>\n",
       "</div>"
      ],
      "text/plain": [
       "        0          1     2\n",
       "0      R$  7.000.000  None\n",
       "1      R$  3.700.000  None\n",
       "2      R$    380.000  None\n",
       "3      R$    685.000  None\n",
       "4      R$    540.000  None\n",
       "...    ..        ...   ...\n",
       "10003  R$    665.000  None\n",
       "10004  R$  2.300.000  None\n",
       "10005  R$  1.050.000  None\n",
       "10006  R$      2.200  /Mês\n",
       "10007  R$    270.000  None\n",
       "\n",
       "[10008 rows x 3 columns]"
      ]
     },
     "metadata": {},
     "execution_count": 222
    }
   ],
   "metadata": {}
  },
  {
   "cell_type": "markdown",
   "source": [
    "Deve-se investigar cada uma das colunas geradas."
   ],
   "metadata": {}
  },
  {
   "cell_type": "code",
   "execution_count": 223,
   "source": [
    "df_raw[\"Valor\"].str.split(expand=True)[0].unique()"
   ],
   "outputs": [
    {
     "output_type": "execute_result",
     "data": {
      "text/plain": [
       "array(['R$'], dtype=object)"
      ]
     },
     "metadata": {},
     "execution_count": 223
    }
   ],
   "metadata": {}
  },
  {
   "cell_type": "code",
   "execution_count": 224,
   "source": [
    "df_raw[\"Valor\"].str.split(expand=True)[1].unique()"
   ],
   "outputs": [
    {
     "output_type": "execute_result",
     "data": {
      "text/plain": [
       "array(['7.000.000', '3.700.000', '380.000', ..., '553.000', '951.000',\n",
       "       '2.200'], dtype=object)"
      ]
     },
     "metadata": {},
     "execution_count": 224
    }
   ],
   "metadata": {}
  },
  {
   "cell_type": "code",
   "execution_count": 225,
   "source": [
    "df_raw[\"Valor\"].str.split(expand=True)[2].unique()"
   ],
   "outputs": [
    {
     "output_type": "execute_result",
     "data": {
      "text/plain": [
       "array([None, '/Mês', '/Ano', '/Dia'], dtype=object)"
      ]
     },
     "metadata": {},
     "execution_count": 225
    }
   ],
   "metadata": {}
  },
  {
   "cell_type": "markdown",
   "source": [
    "- A primeira coluna apresenta somente o símbolo da moeda;\n",
    "- A segunda coluna parece conter apenas as strings de 'números' que devem ser convertidas;\n",
    "- Aparentemente, os dados da terceira coluna que apresentam as qualidades '/Mês', '/Ano' e '/Dia' estão relacionados com imóveis disponíveis para serem alugados. Por hora estes imóveis não nos interessam e podem ser removidos da base de dados."
   ],
   "metadata": {}
  },
  {
   "cell_type": "markdown",
   "source": [
    "Neste momento é conveniente criar um DataFrame que contemple a coluna valor expandida."
   ],
   "metadata": {}
  },
  {
   "cell_type": "code",
   "execution_count": 226,
   "source": [
    "# Faz uma cópia do DataFrame original\n",
    "df_expandido = df_raw\n",
    "\n",
    "# Cria três novas colunas que armazenam o split da coluna Valor\n",
    "df_expandido[[\"Moeda\", \"Valor_anuncio\", \"Tipo_anuncio\"]] = df_expandido[\"Valor\"].str.split(expand=True)\n",
    "df_expandido.head(2)"
   ],
   "outputs": [
    {
     "output_type": "execute_result",
     "data": {
      "text/html": [
       "<div>\n",
       "<style scoped>\n",
       "    .dataframe tbody tr th:only-of-type {\n",
       "        vertical-align: middle;\n",
       "    }\n",
       "\n",
       "    .dataframe tbody tr th {\n",
       "        vertical-align: top;\n",
       "    }\n",
       "\n",
       "    .dataframe thead th {\n",
       "        text-align: right;\n",
       "    }\n",
       "</style>\n",
       "<table border=\"1\" class=\"dataframe\">\n",
       "  <thead>\n",
       "    <tr style=\"text-align: right;\">\n",
       "      <th></th>\n",
       "      <th>Rua</th>\n",
       "      <th>Bairro</th>\n",
       "      <th>Cidade</th>\n",
       "      <th>Metragem</th>\n",
       "      <th>Quartos</th>\n",
       "      <th>Banheiros</th>\n",
       "      <th>Vagas</th>\n",
       "      <th>Valor</th>\n",
       "      <th>Moeda</th>\n",
       "      <th>Valor_anuncio</th>\n",
       "      <th>Tipo_anuncio</th>\n",
       "    </tr>\n",
       "  </thead>\n",
       "  <tbody>\n",
       "    <tr>\n",
       "      <th>0</th>\n",
       "      <td>Avenida Itacira, 255</td>\n",
       "      <td>Planalto Paulista</td>\n",
       "      <td>São Paulo</td>\n",
       "      <td>1000</td>\n",
       "      <td>4</td>\n",
       "      <td>8</td>\n",
       "      <td>6</td>\n",
       "      <td>R$ 7.000.000</td>\n",
       "      <td>R$</td>\n",
       "      <td>7.000.000</td>\n",
       "      <td>None</td>\n",
       "    </tr>\n",
       "    <tr>\n",
       "      <th>1</th>\n",
       "      <td>Rua Aurelia Perez Alvarez, 42</td>\n",
       "      <td>Jardim dos Estados</td>\n",
       "      <td>São Paulo</td>\n",
       "      <td>496</td>\n",
       "      <td>4</td>\n",
       "      <td>4</td>\n",
       "      <td>4</td>\n",
       "      <td>R$ 3.700.000</td>\n",
       "      <td>R$</td>\n",
       "      <td>3.700.000</td>\n",
       "      <td>None</td>\n",
       "    </tr>\n",
       "  </tbody>\n",
       "</table>\n",
       "</div>"
      ],
      "text/plain": [
       "                              Rua              Bairro     Cidade  Metragem  \\\n",
       "0           Avenida Itacira, 255    Planalto Paulista  São Paulo      1000   \n",
       "1  Rua Aurelia Perez Alvarez, 42   Jardim dos Estados  São Paulo       496   \n",
       "\n",
       "   Quartos  Banheiros  Vagas         Valor Moeda Valor_anuncio Tipo_anuncio  \n",
       "0        4          8      6  R$ 7.000.000    R$     7.000.000         None  \n",
       "1        4          4      4  R$ 3.700.000    R$     3.700.000         None  "
      ]
     },
     "metadata": {},
     "execution_count": 226
    }
   ],
   "metadata": {}
  },
  {
   "cell_type": "code",
   "execution_count": 227,
   "source": [
    "# Filtra o DataFrame, removendo os dados de aluguéis (dados que tem tipo anúncio = '/Mês', '/Ano' e '/Dia')\n",
    "dados_vendas = df_expandido[df_expandido[\"Tipo_anuncio\"].isnull()]\n",
    "dados_vendas.head(2)"
   ],
   "outputs": [
    {
     "output_type": "execute_result",
     "data": {
      "text/html": [
       "<div>\n",
       "<style scoped>\n",
       "    .dataframe tbody tr th:only-of-type {\n",
       "        vertical-align: middle;\n",
       "    }\n",
       "\n",
       "    .dataframe tbody tr th {\n",
       "        vertical-align: top;\n",
       "    }\n",
       "\n",
       "    .dataframe thead th {\n",
       "        text-align: right;\n",
       "    }\n",
       "</style>\n",
       "<table border=\"1\" class=\"dataframe\">\n",
       "  <thead>\n",
       "    <tr style=\"text-align: right;\">\n",
       "      <th></th>\n",
       "      <th>Rua</th>\n",
       "      <th>Bairro</th>\n",
       "      <th>Cidade</th>\n",
       "      <th>Metragem</th>\n",
       "      <th>Quartos</th>\n",
       "      <th>Banheiros</th>\n",
       "      <th>Vagas</th>\n",
       "      <th>Valor</th>\n",
       "      <th>Moeda</th>\n",
       "      <th>Valor_anuncio</th>\n",
       "      <th>Tipo_anuncio</th>\n",
       "    </tr>\n",
       "  </thead>\n",
       "  <tbody>\n",
       "    <tr>\n",
       "      <th>0</th>\n",
       "      <td>Avenida Itacira, 255</td>\n",
       "      <td>Planalto Paulista</td>\n",
       "      <td>São Paulo</td>\n",
       "      <td>1000</td>\n",
       "      <td>4</td>\n",
       "      <td>8</td>\n",
       "      <td>6</td>\n",
       "      <td>R$ 7.000.000</td>\n",
       "      <td>R$</td>\n",
       "      <td>7.000.000</td>\n",
       "      <td>None</td>\n",
       "    </tr>\n",
       "    <tr>\n",
       "      <th>1</th>\n",
       "      <td>Rua Aurelia Perez Alvarez, 42</td>\n",
       "      <td>Jardim dos Estados</td>\n",
       "      <td>São Paulo</td>\n",
       "      <td>496</td>\n",
       "      <td>4</td>\n",
       "      <td>4</td>\n",
       "      <td>4</td>\n",
       "      <td>R$ 3.700.000</td>\n",
       "      <td>R$</td>\n",
       "      <td>3.700.000</td>\n",
       "      <td>None</td>\n",
       "    </tr>\n",
       "  </tbody>\n",
       "</table>\n",
       "</div>"
      ],
      "text/plain": [
       "                              Rua              Bairro     Cidade  Metragem  \\\n",
       "0           Avenida Itacira, 255    Planalto Paulista  São Paulo      1000   \n",
       "1  Rua Aurelia Perez Alvarez, 42   Jardim dos Estados  São Paulo       496   \n",
       "\n",
       "   Quartos  Banheiros  Vagas         Valor Moeda Valor_anuncio Tipo_anuncio  \n",
       "0        4          8      6  R$ 7.000.000    R$     7.000.000         None  \n",
       "1        4          4      4  R$ 3.700.000    R$     3.700.000         None  "
      ]
     },
     "metadata": {},
     "execution_count": 227
    }
   ],
   "metadata": {}
  },
  {
   "cell_type": "code",
   "execution_count": 228,
   "source": [
    "# Sobrescrevendo a coluna Valor com os valores tratados e transformados para float \n",
    "# Remoção dos caracteres de pontos dos dados da coluna Valor_anuncio e conversão do tipo para float \n",
    "dados_vendas[\"Valor\"] = dados_vendas[\"Valor_anuncio\"].str.replace(\".\",\"\").astype(float)"
   ],
   "outputs": [],
   "metadata": {}
  },
  {
   "cell_type": "markdown",
   "source": [
    "Novamente, pode-se utilizar o método `info()` para extrair informações do Dataset atual."
   ],
   "metadata": {}
  },
  {
   "cell_type": "code",
   "execution_count": 229,
   "source": [
    "dados_vendas.info()"
   ],
   "outputs": [
    {
     "output_type": "stream",
     "name": "stdout",
     "text": [
      "<class 'pandas.core.frame.DataFrame'>\n",
      "Int64Index: 9156 entries, 0 to 10007\n",
      "Data columns (total 11 columns):\n",
      " #   Column         Non-Null Count  Dtype  \n",
      "---  ------         --------------  -----  \n",
      " 0   Rua            6107 non-null   object \n",
      " 1   Bairro         9146 non-null   object \n",
      " 2   Cidade         9156 non-null   object \n",
      " 3   Metragem       9156 non-null   int64  \n",
      " 4   Quartos        9156 non-null   int64  \n",
      " 5   Banheiros      9156 non-null   int64  \n",
      " 6   Vagas          9156 non-null   int64  \n",
      " 7   Valor          9156 non-null   float64\n",
      " 8   Moeda          9156 non-null   object \n",
      " 9   Valor_anuncio  9156 non-null   object \n",
      " 10  Tipo_anuncio   0 non-null      object \n",
      "dtypes: float64(1), int64(4), object(6)\n",
      "memory usage: 858.4+ KB\n"
     ]
    }
   ],
   "metadata": {}
  },
  {
   "cell_type": "markdown",
   "source": [
    "Note que a coluna Tipo_anuncio só contém valores vazios. Neste momento é conveniente a remoção desta coluna e também das colunas associadas à Valor que ainda são do tipo string. "
   ],
   "metadata": {}
  },
  {
   "cell_type": "code",
   "execution_count": 230,
   "source": [
    "# Removendo colunas que já foram tratadas\n",
    "dados_vendas.drop(columns=['Moeda', 'Valor_anuncio', 'Tipo_anuncio'], inplace=True)\n",
    "\n",
    "dados_vendas.head(2)"
   ],
   "outputs": [
    {
     "output_type": "execute_result",
     "data": {
      "text/html": [
       "<div>\n",
       "<style scoped>\n",
       "    .dataframe tbody tr th:only-of-type {\n",
       "        vertical-align: middle;\n",
       "    }\n",
       "\n",
       "    .dataframe tbody tr th {\n",
       "        vertical-align: top;\n",
       "    }\n",
       "\n",
       "    .dataframe thead th {\n",
       "        text-align: right;\n",
       "    }\n",
       "</style>\n",
       "<table border=\"1\" class=\"dataframe\">\n",
       "  <thead>\n",
       "    <tr style=\"text-align: right;\">\n",
       "      <th></th>\n",
       "      <th>Rua</th>\n",
       "      <th>Bairro</th>\n",
       "      <th>Cidade</th>\n",
       "      <th>Metragem</th>\n",
       "      <th>Quartos</th>\n",
       "      <th>Banheiros</th>\n",
       "      <th>Vagas</th>\n",
       "      <th>Valor</th>\n",
       "    </tr>\n",
       "  </thead>\n",
       "  <tbody>\n",
       "    <tr>\n",
       "      <th>0</th>\n",
       "      <td>Avenida Itacira, 255</td>\n",
       "      <td>Planalto Paulista</td>\n",
       "      <td>São Paulo</td>\n",
       "      <td>1000</td>\n",
       "      <td>4</td>\n",
       "      <td>8</td>\n",
       "      <td>6</td>\n",
       "      <td>7000000.00</td>\n",
       "    </tr>\n",
       "    <tr>\n",
       "      <th>1</th>\n",
       "      <td>Rua Aurelia Perez Alvarez, 42</td>\n",
       "      <td>Jardim dos Estados</td>\n",
       "      <td>São Paulo</td>\n",
       "      <td>496</td>\n",
       "      <td>4</td>\n",
       "      <td>4</td>\n",
       "      <td>4</td>\n",
       "      <td>3700000.00</td>\n",
       "    </tr>\n",
       "  </tbody>\n",
       "</table>\n",
       "</div>"
      ],
      "text/plain": [
       "                              Rua              Bairro     Cidade  Metragem  \\\n",
       "0           Avenida Itacira, 255    Planalto Paulista  São Paulo      1000   \n",
       "1  Rua Aurelia Perez Alvarez, 42   Jardim dos Estados  São Paulo       496   \n",
       "\n",
       "   Quartos  Banheiros  Vagas      Valor  \n",
       "0        4          8      6 7000000.00  \n",
       "1        4          4      4 3700000.00  "
      ]
     },
     "metadata": {},
     "execution_count": 230
    }
   ],
   "metadata": {}
  },
  {
   "cell_type": "markdown",
   "source": [
    "Está completa a conversão do tipo da coluna Valor para tipo float."
   ],
   "metadata": {}
  },
  {
   "cell_type": "markdown",
   "source": [
    "## Visualização dos Dados numéricos "
   ],
   "metadata": {}
  },
  {
   "cell_type": "markdown",
   "source": [
    "O método `describe` retorna estatísticas relevantes sobre os dados numéricos do dataframe."
   ],
   "metadata": {}
  },
  {
   "cell_type": "code",
   "execution_count": 231,
   "source": [
    "dados_vendas.describe()"
   ],
   "outputs": [
    {
     "output_type": "execute_result",
     "data": {
      "text/html": [
       "<div>\n",
       "<style scoped>\n",
       "    .dataframe tbody tr th:only-of-type {\n",
       "        vertical-align: middle;\n",
       "    }\n",
       "\n",
       "    .dataframe tbody tr th {\n",
       "        vertical-align: top;\n",
       "    }\n",
       "\n",
       "    .dataframe thead th {\n",
       "        text-align: right;\n",
       "    }\n",
       "</style>\n",
       "<table border=\"1\" class=\"dataframe\">\n",
       "  <thead>\n",
       "    <tr style=\"text-align: right;\">\n",
       "      <th></th>\n",
       "      <th>Metragem</th>\n",
       "      <th>Quartos</th>\n",
       "      <th>Banheiros</th>\n",
       "      <th>Vagas</th>\n",
       "      <th>Valor</th>\n",
       "    </tr>\n",
       "  </thead>\n",
       "  <tbody>\n",
       "    <tr>\n",
       "      <th>count</th>\n",
       "      <td>9156.00</td>\n",
       "      <td>9156.00</td>\n",
       "      <td>9156.00</td>\n",
       "      <td>9156.00</td>\n",
       "      <td>9156.00</td>\n",
       "    </tr>\n",
       "    <tr>\n",
       "      <th>mean</th>\n",
       "      <td>434.42</td>\n",
       "      <td>3.45</td>\n",
       "      <td>3.80</td>\n",
       "      <td>3.96</td>\n",
       "      <td>3052202.96</td>\n",
       "    </tr>\n",
       "    <tr>\n",
       "      <th>std</th>\n",
       "      <td>7856.42</td>\n",
       "      <td>1.05</td>\n",
       "      <td>1.97</td>\n",
       "      <td>2.60</td>\n",
       "      <td>3944208.19</td>\n",
       "    </tr>\n",
       "    <tr>\n",
       "      <th>min</th>\n",
       "      <td>10.00</td>\n",
       "      <td>1.00</td>\n",
       "      <td>1.00</td>\n",
       "      <td>1.00</td>\n",
       "      <td>13000.00</td>\n",
       "    </tr>\n",
       "    <tr>\n",
       "      <th>25%</th>\n",
       "      <td>168.00</td>\n",
       "      <td>3.00</td>\n",
       "      <td>2.00</td>\n",
       "      <td>2.00</td>\n",
       "      <td>890000.00</td>\n",
       "    </tr>\n",
       "    <tr>\n",
       "      <th>50%</th>\n",
       "      <td>276.00</td>\n",
       "      <td>3.00</td>\n",
       "      <td>4.00</td>\n",
       "      <td>4.00</td>\n",
       "      <td>1800000.00</td>\n",
       "    </tr>\n",
       "    <tr>\n",
       "      <th>75%</th>\n",
       "      <td>450.00</td>\n",
       "      <td>4.00</td>\n",
       "      <td>5.00</td>\n",
       "      <td>5.00</td>\n",
       "      <td>3500000.00</td>\n",
       "    </tr>\n",
       "    <tr>\n",
       "      <th>max</th>\n",
       "      <td>750000.00</td>\n",
       "      <td>16.00</td>\n",
       "      <td>40.00</td>\n",
       "      <td>50.00</td>\n",
       "      <td>65000000.00</td>\n",
       "    </tr>\n",
       "  </tbody>\n",
       "</table>\n",
       "</div>"
      ],
      "text/plain": [
       "       Metragem  Quartos  Banheiros   Vagas       Valor\n",
       "count   9156.00  9156.00    9156.00 9156.00     9156.00\n",
       "mean     434.42     3.45       3.80    3.96  3052202.96\n",
       "std     7856.42     1.05       1.97    2.60  3944208.19\n",
       "min       10.00     1.00       1.00    1.00    13000.00\n",
       "25%      168.00     3.00       2.00    2.00   890000.00\n",
       "50%      276.00     3.00       4.00    4.00  1800000.00\n",
       "75%      450.00     4.00       5.00    5.00  3500000.00\n",
       "max   750000.00    16.00      40.00   50.00 65000000.00"
      ]
     },
     "metadata": {},
     "execution_count": 231
    }
   ],
   "metadata": {}
  },
  {
   "cell_type": "markdown",
   "source": [
    "Uma forma interessante de visualização de várias estatísticas presentes no método `describe` é realizada através da plotagem de um boxplot. A seguir são plotados os gráficos para as variáveis Metragem, Quartos e Valor."
   ],
   "metadata": {}
  },
  {
   "cell_type": "code",
   "execution_count": 232,
   "source": [
    "dados_vendas[['Metragem']].boxplot()"
   ],
   "outputs": [
    {
     "output_type": "execute_result",
     "data": {
      "text/plain": [
       "<matplotlib.axes._subplots.AxesSubplot at 0x7f8df401d3a0>"
      ]
     },
     "metadata": {},
     "execution_count": 232
    },
    {
     "output_type": "display_data",
     "data": {
      "image/png": "[encoded data removed]",
      "text/plain": [
       "<Figure size 432x288 with 1 Axes>"
      ]
     },
     "metadata": {}
    }
   ],
   "metadata": {}
  },
  {
   "cell_type": "code",
   "execution_count": 233,
   "source": [
    "dados_vendas[['Quartos']].boxplot()"
   ],
   "outputs": [
    {
     "output_type": "execute_result",
     "data": {
      "text/plain": [
       "<matplotlib.axes._subplots.AxesSubplot at 0x7f8df625c640>"
      ]
     },
     "metadata": {},
     "execution_count": 233
    },
    {
     "output_type": "display_data",
     "data": {
      "image/png": "[encoded data removed]",
      "text/plain": [
       "<Figure size 432x288 with 1 Axes>"
      ]
     },
     "metadata": {}
    }
   ],
   "metadata": {}
  },
  {
   "cell_type": "code",
   "execution_count": 234,
   "source": [
    "dados_vendas[['Valor']].boxplot()"
   ],
   "outputs": [
    {
     "output_type": "execute_result",
     "data": {
      "text/plain": [
       "<matplotlib.axes._subplots.AxesSubplot at 0x7f8df662e460>"
      ]
     },
     "metadata": {},
     "execution_count": 234
    },
    {
     "output_type": "display_data",
     "data": {
      "image/png": "[encoded data removed]",
      "text/plain": [
       "<Figure size 432x288 with 1 Axes>"
      ]
     },
     "metadata": {}
    }
   ],
   "metadata": {}
  },
  {
   "cell_type": "markdown",
   "source": [
    "Ao observar o Boxplot de destas variáveis, fica claro que existem outliers que devem ser removidos. Os outliers são dados que se diferenciam drasticamente de todos os outros no conjunto de dados e que podem comprometer a análise e, portanto devem ser removidos."
   ],
   "metadata": {}
  },
  {
   "cell_type": "markdown",
   "source": [
    "## Remoção de Outliers: Método \"Interquartile Range (IQR)\" "
   ],
   "metadata": {}
  },
  {
   "cell_type": "markdown",
   "source": [
    "Existem diversas técnicas de remoção de Outliers. Neste projeto é adotado o método *Interquartile Range*. Caso tenha interesse em saber mais sobre Outliers, dê uma olhada neste [ótimo material [2]](https://towardsdatascience.com/detecting-and-treating-outliers-in-python-part-1-4ece5098b755)."
   ],
   "metadata": {}
  },
  {
   "cell_type": "code",
   "execution_count": 235,
   "source": [
    "# Seleção das colunas alvo\n",
    "cols = [\"Valor\"] \n",
    "\n",
    "# Cálculo dos percentis e IQR\n",
    "Q1 = dados_vendas[cols].quantile(0.25)\n",
    "Q3 = dados_vendas[cols].quantile(0.75)\n",
    "IQR = Q3 - Q1\n",
    "\n",
    "# Remoção dos Outliers através do método IQR\n",
    "dados_vendas_IQR = dados_vendas[~((dados_vendas[cols] < (Q1 - 1.5 * IQR)) |(dados_vendas[cols] > (Q3 + 1.5 * IQR))).any(axis=1)]"
   ],
   "outputs": [],
   "metadata": {}
  },
  {
   "cell_type": "markdown",
   "source": [
    "A remoção de outliers se baseia na coluna 'Valor' pois temos interesse de torná-la a variável alvo durante a construção do modelo de Machine Learning. Mas isto não impede que seja feito tratamento de Outliers baseado em outras variáveis."
   ],
   "metadata": {}
  },
  {
   "cell_type": "code",
   "execution_count": 236,
   "source": [
    "# Boxplot após remoção dos Outliers\n",
    "dados_vendas_IQR[['Valor']].boxplot()"
   ],
   "outputs": [
    {
     "output_type": "execute_result",
     "data": {
      "text/plain": [
       "<matplotlib.axes._subplots.AxesSubplot at 0x7f8e10b8db20>"
      ]
     },
     "metadata": {},
     "execution_count": 236
    },
    {
     "output_type": "display_data",
     "data": {
      "image/png": "[encoded data removed]",
      "text/plain": [
       "<Figure size 432x288 with 1 Axes>"
      ]
     },
     "metadata": {}
    }
   ],
   "metadata": {}
  },
  {
   "cell_type": "markdown",
   "source": [
    "## Outras formas de visualizações dos dados"
   ],
   "metadata": {}
  },
  {
   "cell_type": "markdown",
   "source": [
    "Existem diversas formas de explorar os dados. A visualização correta dos dados nos ajuda a extrair as informações pertinentes."
   ],
   "metadata": {}
  },
  {
   "cell_type": "markdown",
   "source": [
    "Dados numéricos com magnitude muito grande às vezes podem atrapalhar a análise e muitas vezes é conveniente fazer a normalização ou parametrização destes dados. A seguir os dados de valores sofrerão uma parametrização em que os valores serão divididos por 1 milhão."
   ],
   "metadata": {}
  },
  {
   "cell_type": "code",
   "execution_count": 237,
   "source": [
    "# Criando nova coluna com valor parametrizado da coluna Valor. Divisão por 1 milhão\n",
    "dados_vendas_IQR[\"Valor_por_M\"] = dados_vendas_IQR[\"Valor\"] / 1000000"
   ],
   "outputs": [],
   "metadata": {}
  },
  {
   "cell_type": "code",
   "execution_count": 238,
   "source": [
    "plt.figure(figsize=(10, 8))\n",
    "ax = sns.histplot(data = dados_vendas_IQR,\n",
    "                  x = \"Valor_por_M\",\n",
    "                  binwidth = 0.1,\n",
    "                  kde = True,\n",
    "                  color = 'green')\n",
    "ax.set_title(r\"Histograma de Valores de Imóveis de São Paulo\", fontsize=20, pad=10)\n",
    "ax.set_ylabel(r'Frequência', fontsize=15)\n",
    "ax.set_xlabel(r\"Valor do anúncio (R\\$)\", fontsize=15)\n",
    "\n",
    "ax.annotate(r'$_{x}10^6$', xy=(0.92, 0.05), xycoords='figure fraction')\n",
    "\n",
    "plt.show()"
   ],
   "outputs": [
    {
     "output_type": "display_data",
     "data": {
      "image/png": "[encoded data removed]",
      "text/plain": [
       "<Figure size 720x576 with 1 Axes>"
      ]
     },
     "metadata": {}
    }
   ],
   "metadata": {}
  },
  {
   "cell_type": "markdown",
   "source": [
    "O Histograma de Valores de imóveis de São Paulo é enviesado à direita, indicando que os valores altos ocorrem com baixa frequência. Este tipo de histograma geralmente representa fenômenos identificados na economia [[3]](https://pt.wikipedia.org/wiki/Histograma), como é o caso dos Valores de imóveis de São Paulo aqui estudados. "
   ],
   "metadata": {}
  },
  {
   "cell_type": "markdown",
   "source": [
    "### Análise do preço por metro quadrado dos imóveis de São Paulo"
   ],
   "metadata": {}
  },
  {
   "cell_type": "markdown",
   "source": [
    "Podem existir diversas abordagens para o cálculo do preço por metro quadrado. Aqui será adotado o cálculo através da divisão do Valor do imóvel por sua Metragem.\n",
    "\n",
    "$$ Preço/m^2 = \\frac{Valor}{Metragem}$$\n",
    "\n",
    "A seguir é criado uma coluna 'preco_m2' para armazenar os valores calculados dos preços por metro quadrado para cada item do dataset."
   ],
   "metadata": {}
  },
  {
   "cell_type": "code",
   "execution_count": 239,
   "source": [
    "# Criando uma nova coluna com o preço por metro quadrado\n",
    "dados_vendas_IQR[\"preco_m2\"] = dados_vendas_IQR[\"Valor\"] / dados_vendas_IQR[\"Metragem\"]\n",
    "dados_vendas_IQR.head(2)"
   ],
   "outputs": [
    {
     "output_type": "execute_result",
     "data": {
      "text/html": [
       "<div>\n",
       "<style scoped>\n",
       "    .dataframe tbody tr th:only-of-type {\n",
       "        vertical-align: middle;\n",
       "    }\n",
       "\n",
       "    .dataframe tbody tr th {\n",
       "        vertical-align: top;\n",
       "    }\n",
       "\n",
       "    .dataframe thead th {\n",
       "        text-align: right;\n",
       "    }\n",
       "</style>\n",
       "<table border=\"1\" class=\"dataframe\">\n",
       "  <thead>\n",
       "    <tr style=\"text-align: right;\">\n",
       "      <th></th>\n",
       "      <th>Rua</th>\n",
       "      <th>Bairro</th>\n",
       "      <th>Cidade</th>\n",
       "      <th>Metragem</th>\n",
       "      <th>Quartos</th>\n",
       "      <th>Banheiros</th>\n",
       "      <th>Vagas</th>\n",
       "      <th>Valor</th>\n",
       "      <th>Valor_por_M</th>\n",
       "      <th>preco_m2</th>\n",
       "    </tr>\n",
       "  </thead>\n",
       "  <tbody>\n",
       "    <tr>\n",
       "      <th>0</th>\n",
       "      <td>Avenida Itacira, 255</td>\n",
       "      <td>Planalto Paulista</td>\n",
       "      <td>São Paulo</td>\n",
       "      <td>1000</td>\n",
       "      <td>4</td>\n",
       "      <td>8</td>\n",
       "      <td>6</td>\n",
       "      <td>7000000.00</td>\n",
       "      <td>7.00</td>\n",
       "      <td>7000.00</td>\n",
       "    </tr>\n",
       "    <tr>\n",
       "      <th>1</th>\n",
       "      <td>Rua Aurelia Perez Alvarez, 42</td>\n",
       "      <td>Jardim dos Estados</td>\n",
       "      <td>São Paulo</td>\n",
       "      <td>496</td>\n",
       "      <td>4</td>\n",
       "      <td>4</td>\n",
       "      <td>4</td>\n",
       "      <td>3700000.00</td>\n",
       "      <td>3.70</td>\n",
       "      <td>7459.68</td>\n",
       "    </tr>\n",
       "  </tbody>\n",
       "</table>\n",
       "</div>"
      ],
      "text/plain": [
       "                              Rua              Bairro     Cidade  Metragem  \\\n",
       "0           Avenida Itacira, 255    Planalto Paulista  São Paulo      1000   \n",
       "1  Rua Aurelia Perez Alvarez, 42   Jardim dos Estados  São Paulo       496   \n",
       "\n",
       "   Quartos  Banheiros  Vagas      Valor  Valor_por_M  preco_m2  \n",
       "0        4          8      6 7000000.00         7.00   7000.00  \n",
       "1        4          4      4 3700000.00         3.70   7459.68  "
      ]
     },
     "metadata": {},
     "execution_count": 239
    }
   ],
   "metadata": {}
  },
  {
   "cell_type": "markdown",
   "source": [
    "Pode-se investigar o comportamento dos dados de preço por metro quadrado através de um Boxplot."
   ],
   "metadata": {}
  },
  {
   "cell_type": "code",
   "execution_count": 240,
   "source": [
    "dados_vendas_IQR[\"preco_m2\"].plot.box()"
   ],
   "outputs": [
    {
     "output_type": "execute_result",
     "data": {
      "text/plain": [
       "<matplotlib.axes._subplots.AxesSubplot at 0x7f8df638b370>"
      ]
     },
     "metadata": {},
     "execution_count": 240
    },
    {
     "output_type": "display_data",
     "data": {
      "image/png": "[encoded data removed]",
      "text/plain": [
       "<Figure size 432x288 with 1 Axes>"
      ]
     },
     "metadata": {}
    }
   ],
   "metadata": {}
  },
  {
   "cell_type": "markdown",
   "source": [
    "Claramente nota-se um valor anômalo quando os dados de preço por metro quadrado são analisados. Não houve tal clareza quando analisados apenas os dados de Valores. Isto reforça a importância de explorar a base de dados e criar novas variáveis que façam sentido para a análise."
   ],
   "metadata": {}
  },
  {
   "cell_type": "markdown",
   "source": [
    "Pode-se remover este dado anômalo pontual. O precedimento para isto é realizado a seguir."
   ],
   "metadata": {}
  },
  {
   "cell_type": "code",
   "execution_count": 241,
   "source": [
    "# Armazenando o índice do maior valor de preco_m2\n",
    "tmp_index = dados_vendas_IQR[\"preco_m2\"].sort_values(ascending=False).index[0]\n",
    "\n",
    "# Removendo a linha que possui\n",
    "dados_vendas_IQR.drop(tmp_index, inplace=True)\n"
   ],
   "outputs": [],
   "metadata": {}
  },
  {
   "cell_type": "markdown",
   "source": [
    "Também pode-se analisar os dados através de técnicas de agrupamentos. Neste projeto faz sentido, por exemplo, analisar os dados por bairro. E é exatamente isto que será feito a seguir."
   ],
   "metadata": {}
  },
  {
   "cell_type": "code",
   "execution_count": 242,
   "source": [
    "# Agrupando os dados por bairro\n",
    "agrupado = dados_vendas_IQR.groupby(\"Bairro\")\n",
    "agrupado.mean().head(2)"
   ],
   "outputs": [
    {
     "output_type": "execute_result",
     "data": {
      "text/html": [
       "<div>\n",
       "<style scoped>\n",
       "    .dataframe tbody tr th:only-of-type {\n",
       "        vertical-align: middle;\n",
       "    }\n",
       "\n",
       "    .dataframe tbody tr th {\n",
       "        vertical-align: top;\n",
       "    }\n",
       "\n",
       "    .dataframe thead th {\n",
       "        text-align: right;\n",
       "    }\n",
       "</style>\n",
       "<table border=\"1\" class=\"dataframe\">\n",
       "  <thead>\n",
       "    <tr style=\"text-align: right;\">\n",
       "      <th></th>\n",
       "      <th>Metragem</th>\n",
       "      <th>Quartos</th>\n",
       "      <th>Banheiros</th>\n",
       "      <th>Vagas</th>\n",
       "      <th>Valor</th>\n",
       "      <th>Valor_por_M</th>\n",
       "      <th>preco_m2</th>\n",
       "    </tr>\n",
       "    <tr>\n",
       "      <th>Bairro</th>\n",
       "      <th></th>\n",
       "      <th></th>\n",
       "      <th></th>\n",
       "      <th></th>\n",
       "      <th></th>\n",
       "      <th></th>\n",
       "      <th></th>\n",
       "    </tr>\n",
       "  </thead>\n",
       "  <tbody>\n",
       "    <tr>\n",
       "      <th>Aclimação</th>\n",
       "      <td>246.16</td>\n",
       "      <td>3.27</td>\n",
       "      <td>3.04</td>\n",
       "      <td>2.91</td>\n",
       "      <td>1763200.01</td>\n",
       "      <td>1.76</td>\n",
       "      <td>7656.17</td>\n",
       "    </tr>\n",
       "    <tr>\n",
       "      <th>Alto da Boa Vista</th>\n",
       "      <td>418.88</td>\n",
       "      <td>4.12</td>\n",
       "      <td>5.12</td>\n",
       "      <td>4.62</td>\n",
       "      <td>2391250.00</td>\n",
       "      <td>2.39</td>\n",
       "      <td>5849.57</td>\n",
       "    </tr>\n",
       "  </tbody>\n",
       "</table>\n",
       "</div>"
      ],
      "text/plain": [
       "                   Metragem  Quartos  Banheiros  Vagas      Valor  \\\n",
       "Bairro                                                              \n",
       "Aclimação            246.16     3.27       3.04   2.91 1763200.01   \n",
       "Alto da Boa Vista    418.88     4.12       5.12   4.62 2391250.00   \n",
       "\n",
       "                   Valor_por_M  preco_m2  \n",
       "Bairro                                    \n",
       "Aclimação                 1.76   7656.17  \n",
       "Alto da Boa Vista         2.39   5849.57  "
      ]
     },
     "metadata": {},
     "execution_count": 242
    }
   ],
   "metadata": {}
  },
  {
   "cell_type": "code",
   "execution_count": 243,
   "source": [
    "# Selecionando a variável a ser plotada:\n",
    "#   média de preços por metro quadrado por bairro\n",
    "var2plot = agrupado.mean()['preco_m2']"
   ],
   "outputs": [],
   "metadata": {}
  },
  {
   "cell_type": "markdown",
   "source": [
    "Uma forma interessante de visualizar estes dados é através de um gráfico de barra. Porém, como a quantidade de bairros é muito grande, para que o gráfico possa ser legível, deve-se limitar a apresentação dos dados para um número reduzido. A seguir são mostrados os 20 bairros com os maiores médias de preços por metro quadrado de São Paulo."
   ],
   "metadata": {}
  },
  {
   "cell_type": "code",
   "execution_count": 244,
   "source": [
    "ax = var2plot.sort_values(ascending=False).head(20).plot(kind='bar')\n",
    "ax.set_title(\n",
    "    r\"Os vinte bairros de São Paulo com maiores médias de preços por $m^2$\")\n",
    "ax.set_ylabel(r\"$R\\$/m^2$\")\n",
    "ax.set_xlabel(r\"Bairro\")"
   ],
   "outputs": [
    {
     "output_type": "execute_result",
     "data": {
      "text/plain": [
       "Text(0.5, 0, 'Bairro')"
      ]
     },
     "metadata": {},
     "execution_count": 244
    },
    {
     "output_type": "display_data",
     "data": {
      "image/png": "[encoded data removed]",
      "text/plain": [
       "<Figure size 432x288 with 1 Axes>"
      ]
     },
     "metadata": {}
    }
   ],
   "metadata": {}
  },
  {
   "cell_type": "markdown",
   "source": [
    "O gráfico mostra que o bairro Jardim Ampliação apresenta a maior média de preço por metro quadrado. Além disto, o gráfico contempla diversos bairros nobres de São Paulo (como Jardim Europa, Jardim e Paulista e Moema), como é esperado. "
   ],
   "metadata": {}
  },
  {
   "cell_type": "markdown",
   "source": [
    "Também é apresentado o gráfico dos 20 bairros com as menores médias de preços por metro quadrado de São Paulo."
   ],
   "metadata": {}
  },
  {
   "cell_type": "code",
   "execution_count": 245,
   "source": [
    "ax = var2plot.sort_values(ascending=True).head(20).plot(kind='bar', color='purple')\n",
    "ax.set_title(\n",
    "    r\"Os vinte bairros de São Paulo com menores médias de preços por $m^2$\")\n",
    "ax.set_ylabel(r\"$R\\$/m^2$\")         \n",
    "ax.set_xlabel(r\"Bairro\") "
   ],
   "outputs": [
    {
     "output_type": "execute_result",
     "data": {
      "text/plain": [
       "Text(0.5, 0, 'Bairro')"
      ]
     },
     "metadata": {},
     "execution_count": 245
    },
    {
     "output_type": "display_data",
     "data": {
      "image/png": "[encoded data removed]",
      "text/plain": [
       "<Figure size 432x288 with 1 Axes>"
      ]
     },
     "metadata": {}
    }
   ],
   "metadata": {}
  },
  {
   "cell_type": "markdown",
   "source": [
    "Quando apresentados os vinte bairros com menores médias de preços por metro quadrado, nota-se que o Bairro Sitio Represa apresenta um valor muito abaixo em relação aos demais bairros e portanto pode ser um motivo para uma investigação na base de dados."
   ],
   "metadata": {}
  },
  {
   "cell_type": "markdown",
   "source": [
    "Pode-se fazer a busca dos imóveis que são do bairro Sítio Represa da seguinte forma."
   ],
   "metadata": {}
  },
  {
   "cell_type": "code",
   "execution_count": 246,
   "source": [
    "dados_vendas_IQR.set_index(\"Bairro\").loc[\"Sítio Represa\"]"
   ],
   "outputs": [
    {
     "output_type": "execute_result",
     "data": {
      "text/plain": [
       "Rua            Rua Benedito Felizardo\n",
       "Cidade                      São Paulo\n",
       "Metragem                        37000\n",
       "Quartos                             4\n",
       "Banheiros                           2\n",
       "Vagas                               4\n",
       "Valor                      2900000.00\n",
       "Valor_por_M                      2.90\n",
       "preco_m2                        78.38\n",
       "Name: Sítio Represa, dtype: object"
      ]
     },
     "metadata": {},
     "execution_count": 246
    }
   ],
   "metadata": {}
  },
  {
   "cell_type": "markdown",
   "source": [
    "Como pode ser observado, a busca retornou apenas um imóvel na região. Analisando os dados nota-se que o imóvel aparenta ser uma fazenda ou chácara devido seu valor alto de Metragem e poucos quartos e banheiros. Por este motivo o preço do metro quadrado está reduzido."
   ],
   "metadata": {}
  },
  {
   "cell_type": "markdown",
   "source": [
    "# 02.03. Relacionando outras Bases de Dados"
   ],
   "metadata": {}
  },
  {
   "cell_type": "markdown",
   "source": [
    "Com o intuito de enriquecer os dados para a construção do modelo, torna-se interessante agregar outros tipos de variáveis que o dataset ainda não contempla. Uma variável interessante é a renda. Esta variável está disponível nas [bases de dados do ibge](https://gist.githubusercontent.com/tgcsantos/85f8c7b0a2edbc3e27fcad619b37d886/raw/a4954781e6bca9cb804062a3eea0b3b84679daf4/Basico_SP1.csv)."
   ],
   "metadata": {}
  },
  {
   "cell_type": "markdown",
   "source": [
    "### Base de dados do IBGE (Renda)"
   ],
   "metadata": {}
  },
  {
   "cell_type": "code",
   "execution_count": 248,
   "source": [
    "ibge_csv_path = 'https://gist.githubusercontent.com/tgcsantos/85f8c7b0a2edbc3e27fcad619b37d886/raw/a4954781e6bca9cb804062a3eea0b3b84679daf4/Basico_SP1.csv'\n",
    "\n",
    "# Leitura do aquivo do ibge\n",
    "ibge_sp = pd.read_csv(\n",
    "    ibge_csv_path,\n",
    "    encoding='ISO-8859-1',\n",
    "    thousands='.',\n",
    "    decimal=',',\n",
    "    sep=';')\n",
    "\n",
    "# drop de coluna vazia\n",
    "ibge_sp.dropna(how='all', axis=1, inplace=True)\n",
    "ibge_sp.head(2)"
   ],
   "outputs": [
    {
     "output_type": "execute_result",
     "data": {
      "text/html": [
       "<div>\n",
       "<style scoped>\n",
       "    .dataframe tbody tr th:only-of-type {\n",
       "        vertical-align: middle;\n",
       "    }\n",
       "\n",
       "    .dataframe tbody tr th {\n",
       "        vertical-align: top;\n",
       "    }\n",
       "\n",
       "    .dataframe thead th {\n",
       "        text-align: right;\n",
       "    }\n",
       "</style>\n",
       "<table border=\"1\" class=\"dataframe\">\n",
       "  <thead>\n",
       "    <tr style=\"text-align: right;\">\n",
       "      <th></th>\n",
       "      <th>Cod_setor</th>\n",
       "      <th>Cod_Grandes Regiï¿½es</th>\n",
       "      <th>Nome_Grande_Regiao</th>\n",
       "      <th>Cod_UF</th>\n",
       "      <th>Nome_da_UF</th>\n",
       "      <th>Cod_meso</th>\n",
       "      <th>Nome_da_meso</th>\n",
       "      <th>Cod_micro</th>\n",
       "      <th>Nome_da_micro</th>\n",
       "      <th>Cod_RM</th>\n",
       "      <th>...</th>\n",
       "      <th>V003</th>\n",
       "      <th>V004</th>\n",
       "      <th>V005</th>\n",
       "      <th>V006</th>\n",
       "      <th>V007</th>\n",
       "      <th>V008</th>\n",
       "      <th>V009</th>\n",
       "      <th>V010</th>\n",
       "      <th>V011</th>\n",
       "      <th>V012</th>\n",
       "    </tr>\n",
       "  </thead>\n",
       "  <tbody>\n",
       "    <tr>\n",
       "      <th>0</th>\n",
       "      <td>355030801000001</td>\n",
       "      <td>3</td>\n",
       "      <td>Regiï¿½o Sudeste</td>\n",
       "      <td>35</td>\n",
       "      <td>Sï¿½o Paulo</td>\n",
       "      <td>3515</td>\n",
       "      <td>Metropolitana de Sï¿½o Paulo</td>\n",
       "      <td>35061</td>\n",
       "      <td>Sï¿½o Paulo</td>\n",
       "      <td>20</td>\n",
       "      <td>...</td>\n",
       "      <td>3.01</td>\n",
       "      <td>2.32</td>\n",
       "      <td>2091.32</td>\n",
       "      <td>8532451.78</td>\n",
       "      <td>2164.55</td>\n",
       "      <td>8673276.78</td>\n",
       "      <td>1227.41</td>\n",
       "      <td>4285771.99</td>\n",
       "      <td>1713.75</td>\n",
       "      <td>5152087.86</td>\n",
       "    </tr>\n",
       "    <tr>\n",
       "      <th>1</th>\n",
       "      <td>355030801000002</td>\n",
       "      <td>3</td>\n",
       "      <td>Regiï¿½o Sudeste</td>\n",
       "      <td>35</td>\n",
       "      <td>Sï¿½o Paulo</td>\n",
       "      <td>3515</td>\n",
       "      <td>Metropolitana de Sï¿½o Paulo</td>\n",
       "      <td>35061</td>\n",
       "      <td>Sï¿½o Paulo</td>\n",
       "      <td>20</td>\n",
       "      <td>...</td>\n",
       "      <td>2.98</td>\n",
       "      <td>2.09</td>\n",
       "      <td>1650.09</td>\n",
       "      <td>3983441.31</td>\n",
       "      <td>1717.44</td>\n",
       "      <td>4030519.99</td>\n",
       "      <td>1045.78</td>\n",
       "      <td>2572133.32</td>\n",
       "      <td>1468.08</td>\n",
       "      <td>2991546.94</td>\n",
       "    </tr>\n",
       "    <tr>\n",
       "      <th>2</th>\n",
       "      <td>355030801000003</td>\n",
       "      <td>3</td>\n",
       "      <td>Regiï¿½o Sudeste</td>\n",
       "      <td>35</td>\n",
       "      <td>Sï¿½o Paulo</td>\n",
       "      <td>3515</td>\n",
       "      <td>Metropolitana de Sï¿½o Paulo</td>\n",
       "      <td>35061</td>\n",
       "      <td>Sï¿½o Paulo</td>\n",
       "      <td>20</td>\n",
       "      <td>...</td>\n",
       "      <td>3.31</td>\n",
       "      <td>3.08</td>\n",
       "      <td>1280.43</td>\n",
       "      <td>5474593.06</td>\n",
       "      <td>2349.53</td>\n",
       "      <td>7553913.02</td>\n",
       "      <td>902.97</td>\n",
       "      <td>2735492.52</td>\n",
       "      <td>1786.79</td>\n",
       "      <td>3837674.74</td>\n",
       "    </tr>\n",
       "    <tr>\n",
       "      <th>3</th>\n",
       "      <td>355030801000004</td>\n",
       "      <td>3</td>\n",
       "      <td>Regiï¿½o Sudeste</td>\n",
       "      <td>35</td>\n",
       "      <td>Sï¿½o Paulo</td>\n",
       "      <td>3515</td>\n",
       "      <td>Metropolitana de Sï¿½o Paulo</td>\n",
       "      <td>35061</td>\n",
       "      <td>Sï¿½o Paulo</td>\n",
       "      <td>20</td>\n",
       "      <td>...</td>\n",
       "      <td>3.16</td>\n",
       "      <td>2.26</td>\n",
       "      <td>1119.59</td>\n",
       "      <td>3572955.10</td>\n",
       "      <td>1859.13</td>\n",
       "      <td>4567289.50</td>\n",
       "      <td>869.09</td>\n",
       "      <td>2122409.02</td>\n",
       "      <td>1567.41</td>\n",
       "      <td>2735383.24</td>\n",
       "    </tr>\n",
       "    <tr>\n",
       "      <th>4</th>\n",
       "      <td>355030801000005</td>\n",
       "      <td>3</td>\n",
       "      <td>Regiï¿½o Sudeste</td>\n",
       "      <td>35</td>\n",
       "      <td>Sï¿½o Paulo</td>\n",
       "      <td>3515</td>\n",
       "      <td>Metropolitana de Sï¿½o Paulo</td>\n",
       "      <td>35061</td>\n",
       "      <td>Sï¿½o Paulo</td>\n",
       "      <td>20</td>\n",
       "      <td>...</td>\n",
       "      <td>3.14</td>\n",
       "      <td>2.35</td>\n",
       "      <td>1416.90</td>\n",
       "      <td>2240207.58</td>\n",
       "      <td>1581.66</td>\n",
       "      <td>2240109.39</td>\n",
       "      <td>917.71</td>\n",
       "      <td>1570047.75</td>\n",
       "      <td>1356.35</td>\n",
       "      <td>1725877.85</td>\n",
       "    </tr>\n",
       "  </tbody>\n",
       "</table>\n",
       "<p>5 rows × 33 columns</p>\n",
       "</div>"
      ],
      "text/plain": [
       "         Cod_setor  Cod_Grandes Regiï¿½es Nome_Grande_Regiao  Cod_UF  \\\n",
       "0  355030801000001                      3   Regiï¿½o Sudeste      35   \n",
       "1  355030801000002                      3   Regiï¿½o Sudeste      35   \n",
       "2  355030801000003                      3   Regiï¿½o Sudeste      35   \n",
       "3  355030801000004                      3   Regiï¿½o Sudeste      35   \n",
       "4  355030801000005                      3   Regiï¿½o Sudeste      35   \n",
       "\n",
       "   Nome_da_UF   Cod_meso                  Nome_da_meso  Cod_micro  \\\n",
       "0  Sï¿½o Paulo      3515  Metropolitana de Sï¿½o Paulo      35061   \n",
       "1  Sï¿½o Paulo      3515  Metropolitana de Sï¿½o Paulo      35061   \n",
       "2  Sï¿½o Paulo      3515  Metropolitana de Sï¿½o Paulo      35061   \n",
       "3  Sï¿½o Paulo      3515  Metropolitana de Sï¿½o Paulo      35061   \n",
       "4  Sï¿½o Paulo      3515  Metropolitana de Sï¿½o Paulo      35061   \n",
       "\n",
       "  Nome_da_micro  Cod_RM  ... V003  V004    V005       V006    V007       V008  \\\n",
       "0   Sï¿½o Paulo      20  ... 3.01  2.32 2091.32 8532451.78 2164.55 8673276.78   \n",
       "1   Sï¿½o Paulo      20  ... 2.98  2.09 1650.09 3983441.31 1717.44 4030519.99   \n",
       "2   Sï¿½o Paulo      20  ... 3.31  3.08 1280.43 5474593.06 2349.53 7553913.02   \n",
       "3   Sï¿½o Paulo      20  ... 3.16  2.26 1119.59 3572955.10 1859.13 4567289.50   \n",
       "4   Sï¿½o Paulo      20  ... 3.14  2.35 1416.90 2240207.58 1581.66 2240109.39   \n",
       "\n",
       "     V009       V010    V011       V012  \n",
       "0 1227.41 4285771.99 1713.75 5152087.86  \n",
       "1 1045.78 2572133.32 1468.08 2991546.94  \n",
       "2  902.97 2735492.52 1786.79 3837674.74  \n",
       "3  869.09 2122409.02 1567.41 2735383.24  \n",
       "4  917.71 1570047.75 1356.35 1725877.85  \n",
       "\n",
       "[5 rows x 33 columns]"
      ]
     },
     "metadata": {},
     "execution_count": 248
    }
   ],
   "metadata": {}
  },
  {
   "cell_type": "markdown",
   "source": [
    "#### [Dicionário de dados do IBGE [4]](https://drive.google.com/file/d/1WVTqfKtHOOk5X1AWaSOn6NLaO7cix2m4/view), página 45, Arquivo Básico.\n",
    "\n",
    "(É possível colapsar esta seção caso o texto grande incomode)"
   ],
   "metadata": {}
  },
  {
   "cell_type": "markdown",
   "source": [
    "- Cod_setor : Código do setor censitário\n",
    "<br/><br/>\n",
    "- Cod_Grandes Regiões : Código das Grandes Regiões (Regiões Geográficas)\n",
    "<br/><br/>\n",
    "- Nome_Grande Região : Nome das Grandes Regiões (Regiões Geográficas)\n",
    "<br/><br/>\n",
    "- Cod_UF : Código da Unidade da Federação\n",
    "<br/><br/>\n",
    "- Nome_da_UF : Nome da Unidade da Federação\n",
    "<br/><br/>\n",
    "- Cod_meso : Código da mesorregião\n",
    "<br/><br/>\n",
    "- Nome_da_meso : Nome da mesorregião\n",
    "<br/><br/>\n",
    "- Cod_micro : Código da microrregião\n",
    "<br/><br/>\n",
    "- Nome_da_micro : Nome da microrregião\n",
    "<br/><br/>\n",
    "- Cod_RM : Código da região metropolitana ou RIDE\n",
    "<br/><br/>\n",
    "- Nome_da_RM : Nome da região metropolitana ou RIDE\n",
    "<br/><br/>\n",
    "- Cod_municipio : Código do município\n",
    "<br/><br/>\n",
    "- Nome_municipio : Nome do município\n",
    "<br/><br/>\n",
    "- Cod_distrito : Código do distrito\n",
    "<br/><br/>\n",
    "- Nome_do_distrito : Nome do distrito\n",
    "<br/><br/>\n",
    "- Cod_subdistrito : Código do subdistrito\n",
    "<br/><br/>\n",
    "- Nome_do_subdistrito : Nome do subdistrito\n",
    "<br/><br/>\n",
    "- Cod_bairro : Código de bairro\n",
    "<br/><br/>\n",
    "- Nome_do_bairro : Nome do bairro\n",
    "<br/><br/>\n",
    "- Situação_setor : Código de situação do setor\n",
    "<br/><br/>\n",
    "    - Situação urbana – códigos: 1, 2 e 3\n",
    "    <br/><br/>\n",
    "        - 1- Área urbanizada de cidade ou vila\n",
    "        <br/><br/>\n",
    "        - 2- Área não-urbanizada de cidade ou vila\n",
    "        <br/><br/>\n",
    "        - 3- Área urbana isolada\n",
    "        <br/><br/>\n",
    "    - Situação rural – códigos: 4, 5, 6, 7 e 8\n",
    "    <br/><br/>\n",
    "        - 4- Aglomerado rural de extensão urbana\n",
    "        <br/><br/>\n",
    "        - 5- Aglomerado rural isolado – povoado\n",
    "        <br/><br/>\n",
    "        - 6- Aglomerado rural isolado – núcleo\n",
    "        <br/><br/>\n",
    "        - 7- Aglomerado rural isolado - outros aglomerados\n",
    "        <br/><br/>\n",
    "        - 8- Zona rural, exclusive aglomerado rural\n",
    "        <br/><br/>\n",
    "- V001 : Domicílios particulares permanentes ou pessoas responsáveis por domicílios particulares permanentes\n",
    "<br/><br/>\n",
    "- V002 : Moradores em domicílios particulares permanentes ou população residente em domicílios particulares permanentes <br/><br/>\n",
    "- V003 : Média do número de moradores em domicílios particulares permanentes (obtida pela divisão de Var2 por Var1)\n",
    "<br/><br/>\n",
    "- V004 : Variância do número de moradores em domicílios particulares permanentes\n",
    "<br/><br/>\n",
    "- V005 : Valor do rendimento nominal médio mensal das pessoas responsáveis por domicílios particulares permanentes (com e sem rendimento)\n",
    "<br/><br/>\n",
    "- V006 : Variância do rendimento nominal mensal das pessoas responsáveis por domicílios particulares permanentes  (com e sem rendimento) <br/><br/>\n",
    "- V007 : Valor do rendimento nominal médio mensal das pessoas responsáveis por domicílios particulares permanentes (com rendimento)\n",
    "<br/><br/>\n",
    "- V008 : Variância do rendimento nominal mensal das pessoas responsáveis por domicílios particulares permanentes  (com rendimento)\n",
    "<br/><br/>\n",
    "- V009 : Valor do rendimento nominal médio mensal das pessoas de 10 anos ou mais de idade (com e sem rendimento)\n",
    "<br/><br/>\n",
    "- V010 : Variância do rendimento nominal mensal das pessoas de 10 anos ou mais de idade (com e sem rendimento)\n",
    "<br/><br/>\n",
    "- V011 : Valor do rendimento nominal médio mensal das pessoas de 10 anos ou mais de idade (com rendimento)\n",
    "<br/><br/>\n",
    "- V012 : Variância do rendimento nominal mensal das pessoas de 10 anos ou mais de idade (com rendimento)\n",
    "<br/><br/>"
   ],
   "metadata": {}
  },
  {
   "cell_type": "markdown",
   "source": [
    "#### Continuando a análise"
   ],
   "metadata": {}
  },
  {
   "cell_type": "markdown",
   "source": [
    "- Os dados do IBGE possuem diversas variáveis de renda"
   ],
   "metadata": {}
  },
  {
   "cell_type": "code",
   "execution_count": 249,
   "source": [
    "ibge_sp.info()"
   ],
   "outputs": [
    {
     "output_type": "stream",
     "name": "stdout",
     "text": [
      "<class 'pandas.core.frame.DataFrame'>\n",
      "RangeIndex: 18363 entries, 0 to 18362\n",
      "Data columns (total 33 columns):\n",
      " #   Column                 Non-Null Count  Dtype  \n",
      "---  ------                 --------------  -----  \n",
      " 0   Cod_setor              18363 non-null  int64  \n",
      " 1   Cod_Grandes Regiï¿½es  18363 non-null  int64  \n",
      " 2   Nome_Grande_Regiao     18363 non-null  object \n",
      " 3   Cod_UF                 18363 non-null  int64  \n",
      " 4   Nome_da_UF             18363 non-null  object \n",
      " 5   Cod_meso               18363 non-null  int64  \n",
      " 6   Nome_da_meso           18363 non-null  object \n",
      " 7   Cod_micro              18363 non-null  int64  \n",
      " 8   Nome_da_micro          18363 non-null  object \n",
      " 9   Cod_RM                 18363 non-null  int64  \n",
      " 10  Nome_da_RM             18363 non-null  object \n",
      " 11  Cod_municipio          18363 non-null  int64  \n",
      " 12  Nome_do_municipio      18363 non-null  object \n",
      " 13  Cod_distrito           18363 non-null  int64  \n",
      " 14  Nome_do_distrito       18363 non-null  object \n",
      " 15  Cod_subdistrito        18363 non-null  int64  \n",
      " 16  Nome_do_subdistrito    18363 non-null  object \n",
      " 17  Cod_bairro             18363 non-null  int64  \n",
      " 18  Nome_do_bairro         18363 non-null  object \n",
      " 19  Situacao_setor         18363 non-null  int64  \n",
      " 20  Tipo_setor             18363 non-null  int64  \n",
      " 21  V001                   18333 non-null  float64\n",
      " 22  V002                   18333 non-null  float64\n",
      " 23  V003                   18333 non-null  float64\n",
      " 24  V004                   18333 non-null  float64\n",
      " 25  V005                   18333 non-null  float64\n",
      " 26  V006                   18333 non-null  float64\n",
      " 27  V007                   18324 non-null  float64\n",
      " 28  V008                   18324 non-null  float64\n",
      " 29  V009                   18363 non-null  float64\n",
      " 30  V010                   18363 non-null  float64\n",
      " 31  V011                   18352 non-null  float64\n",
      " 32  V012                   18352 non-null  float64\n",
      "dtypes: float64(12), int64(12), object(9)\n",
      "memory usage: 4.6+ MB\n"
     ]
    }
   ],
   "metadata": {}
  },
  {
   "cell_type": "markdown",
   "source": [
    "Tem-se o interesse de combinar as duas bases de dados (`dados_vendas_IQR` e `ibge_sp`). Para realizar este tipo de combinação é necessário que ambas as bases de dados tenham uma variável em comum para efetuar o pareamento.\n",
    "\n",
    "As variáveis que ambos os datasets possuem em comum são *Rua* e *Bairro*. Porém estas variáveis são problemáticas por poderem apresentar diferentes formas de grafia para um mesmo elemento (Por exemplo, o bairro Vila Mariana pode estar abreviado como V. Mariana e neste caso o pareamento não ocorreria). \n",
    "\n",
    "Uma variável bastante precisa da base de dados `ibge_sp` é o código do setor censitário `Cod_setor`, porém a base de dados `dados_vendas_IQR` não apresenta esta variável. Apesar desta variável não existir no dataframe, é possível conseguí-la caso outras bases de dados sejam utilizadas para tal.\n",
    "\n",
    "É possível conseguir o código do setor censitário a partir do endereço. As etapas do procedimento são descritas a seguir:\n",
    "- A partir do endereço deve-se encontrar as coordenadas geográficas: latitude e longitude;\n",
    "- Com a latitude e longitude pode-se verificar em qual setor censitário o local está contido (Isto é realizado utilizando dados geoespaciais).\n",
    "- Por fim, é armazenado o código do setor censitário \n",
    "\n",
    "#### E como isto será realizado?\n",
    "\n",
    "Com o auxílio de mais duas bases de dados:\n",
    "- Base de dados de endereços de São Paulo: contêm valores das coordenadas geográficas: latitude e longitude\n",
    "- Base de dados geoespaciais: contêm valores dos códigos e polígonos dos setores censitários.\n"
   ],
   "metadata": {}
  },
  {
   "cell_type": "markdown",
   "source": [
    "### Base de dados de endereços"
   ],
   "metadata": {}
  },
  {
   "cell_type": "markdown",
   "source": [
    "Carregando a base de dados de endereços de São Paulo com a finalidade de obter as coordenadas geográficas: latitude e longitude."
   ],
   "metadata": {}
  },
  {
   "cell_type": "code",
   "execution_count": 250,
   "source": [
    "df_enderecos_sp = pd.read_csv(\"data/enderecos_sp.csv\")\n",
    "df_enderecos_sp.head(2)"
   ],
   "outputs": [
    {
     "output_type": "stream",
     "name": "stderr",
     "text": [
      "/home/yorinori/anaconda3/lib/python3.8/site-packages/IPython/core/interactiveshell.py:3071: DtypeWarning: Columns (3) have mixed types.Specify dtype option on import or set low_memory=False.\n",
      "  has_raised = await self.run_ast_nodes(code_ast.body, cell_name,\n"
     ]
    },
    {
     "output_type": "execute_result",
     "data": {
      "text/html": [
       "<div>\n",
       "<style scoped>\n",
       "    .dataframe tbody tr th:only-of-type {\n",
       "        vertical-align: middle;\n",
       "    }\n",
       "\n",
       "    .dataframe tbody tr th {\n",
       "        vertical-align: top;\n",
       "    }\n",
       "\n",
       "    .dataframe thead th {\n",
       "        text-align: right;\n",
       "    }\n",
       "</style>\n",
       "<table border=\"1\" class=\"dataframe\">\n",
       "  <thead>\n",
       "    <tr style=\"text-align: right;\">\n",
       "      <th></th>\n",
       "      <th>tipo_logr</th>\n",
       "      <th>logr_nome</th>\n",
       "      <th>logr_compl</th>\n",
       "      <th>numero</th>\n",
       "      <th>bairro</th>\n",
       "      <th>nome_localidade</th>\n",
       "      <th>sigla_uf</th>\n",
       "      <th>cep</th>\n",
       "      <th>latitude</th>\n",
       "      <th>longitude</th>\n",
       "    </tr>\n",
       "  </thead>\n",
       "  <tbody>\n",
       "    <tr>\n",
       "      <th>0</th>\n",
       "      <td>Rua</td>\n",
       "      <td>João Antônio Vasconcelos</td>\n",
       "      <td>Rua João Antônio Vasconcelos - até 627/628</td>\n",
       "      <td>627.00</td>\n",
       "      <td>Amizade</td>\n",
       "      <td>Araçatuba</td>\n",
       "      <td>SP</td>\n",
       "      <td>16074320.00</td>\n",
       "      <td>-21.19</td>\n",
       "      <td>-50.45</td>\n",
       "    </tr>\n",
       "    <tr>\n",
       "      <th>1</th>\n",
       "      <td>Rua</td>\n",
       "      <td>A</td>\n",
       "      <td>Rua A</td>\n",
       "      <td>NaN</td>\n",
       "      <td>Jardim Glória</td>\n",
       "      <td>Americana</td>\n",
       "      <td>SP</td>\n",
       "      <td>13468220.00</td>\n",
       "      <td>-22.76</td>\n",
       "      <td>-47.34</td>\n",
       "    </tr>\n",
       "  </tbody>\n",
       "</table>\n",
       "</div>"
      ],
      "text/plain": [
       "  tipo_logr                 logr_nome  \\\n",
       "0       Rua  João Antônio Vasconcelos   \n",
       "1       Rua                         A   \n",
       "\n",
       "                                   logr_compl numero         bairro  \\\n",
       "0  Rua João Antônio Vasconcelos - até 627/628 627.00        Amizade   \n",
       "1                                       Rua A    NaN  Jardim Glória   \n",
       "\n",
       "  nome_localidade sigla_uf         cep  latitude  longitude  \n",
       "0       Araçatuba       SP 16074320.00    -21.19     -50.45  \n",
       "1       Americana       SP 13468220.00    -22.76     -47.34  "
      ]
     },
     "metadata": {},
     "execution_count": 250
    }
   ],
   "metadata": {}
  },
  {
   "cell_type": "markdown",
   "source": [
    "Preparação dos dados para realizar um `merge`."
   ],
   "metadata": {}
  },
  {
   "cell_type": "code",
   "execution_count": 251,
   "source": [
    "df_enderecos_sp[\"rua2merge\"] = df_enderecos_sp[\"tipo_logr\"] + \" \" + df_enderecos_sp[\"logr_nome\"]\n",
    "df_enderecos_sp[\"rua2merge\"] = df_enderecos_sp[\"rua2merge\"].str.lower().str.strip()\n",
    "df_enderecos_sp.head(2)"
   ],
   "outputs": [
    {
     "output_type": "execute_result",
     "data": {
      "text/html": [
       "<div>\n",
       "<style scoped>\n",
       "    .dataframe tbody tr th:only-of-type {\n",
       "        vertical-align: middle;\n",
       "    }\n",
       "\n",
       "    .dataframe tbody tr th {\n",
       "        vertical-align: top;\n",
       "    }\n",
       "\n",
       "    .dataframe thead th {\n",
       "        text-align: right;\n",
       "    }\n",
       "</style>\n",
       "<table border=\"1\" class=\"dataframe\">\n",
       "  <thead>\n",
       "    <tr style=\"text-align: right;\">\n",
       "      <th></th>\n",
       "      <th>tipo_logr</th>\n",
       "      <th>logr_nome</th>\n",
       "      <th>logr_compl</th>\n",
       "      <th>numero</th>\n",
       "      <th>bairro</th>\n",
       "      <th>nome_localidade</th>\n",
       "      <th>sigla_uf</th>\n",
       "      <th>cep</th>\n",
       "      <th>latitude</th>\n",
       "      <th>longitude</th>\n",
       "      <th>rua2merge</th>\n",
       "    </tr>\n",
       "  </thead>\n",
       "  <tbody>\n",
       "    <tr>\n",
       "      <th>0</th>\n",
       "      <td>Rua</td>\n",
       "      <td>João Antônio Vasconcelos</td>\n",
       "      <td>Rua João Antônio Vasconcelos - até 627/628</td>\n",
       "      <td>627.00</td>\n",
       "      <td>Amizade</td>\n",
       "      <td>Araçatuba</td>\n",
       "      <td>SP</td>\n",
       "      <td>16074320.00</td>\n",
       "      <td>-21.19</td>\n",
       "      <td>-50.45</td>\n",
       "      <td>rua joão antônio vasconcelos</td>\n",
       "    </tr>\n",
       "    <tr>\n",
       "      <th>1</th>\n",
       "      <td>Rua</td>\n",
       "      <td>A</td>\n",
       "      <td>Rua A</td>\n",
       "      <td>NaN</td>\n",
       "      <td>Jardim Glória</td>\n",
       "      <td>Americana</td>\n",
       "      <td>SP</td>\n",
       "      <td>13468220.00</td>\n",
       "      <td>-22.76</td>\n",
       "      <td>-47.34</td>\n",
       "      <td>rua a</td>\n",
       "    </tr>\n",
       "  </tbody>\n",
       "</table>\n",
       "</div>"
      ],
      "text/plain": [
       "  tipo_logr                 logr_nome  \\\n",
       "0       Rua  João Antônio Vasconcelos   \n",
       "1       Rua                         A   \n",
       "\n",
       "                                   logr_compl numero         bairro  \\\n",
       "0  Rua João Antônio Vasconcelos - até 627/628 627.00        Amizade   \n",
       "1                                       Rua A    NaN  Jardim Glória   \n",
       "\n",
       "  nome_localidade sigla_uf         cep  latitude  longitude  \\\n",
       "0       Araçatuba       SP 16074320.00    -21.19     -50.45   \n",
       "1       Americana       SP 13468220.00    -22.76     -47.34   \n",
       "\n",
       "                      rua2merge  \n",
       "0  rua joão antônio vasconcelos  \n",
       "1                         rua a  "
      ]
     },
     "metadata": {},
     "execution_count": 251
    }
   ],
   "metadata": {}
  },
  {
   "cell_type": "markdown",
   "source": [
    "Neste momento, o que se quer é preparar os dados da base de dados principal `dados_vendas_IQR` para fazer um `merge` com o `df_enderecos_sp`. Isto é realizado aplicando uma [RegEx [5]](https://www.alura.com.br/conteudo/expressoes-regulares?gclid=CjwKCAjws8yUBhA1EiwAi_tpEYmbYUlexxMoyOTmWZPW7mc6ZbrwsZR4DcrHIG1ShbNGkSW17LGV3BoC0lEQAvD_BwE) sobre a coluna \"Rua\", como demonstrado a seguir."
   ],
   "metadata": {}
  },
  {
   "cell_type": "code",
   "execution_count": 252,
   "source": [
    "dados_vendas_IQR[\"rua4merging\"] = dados_vendas_IQR[\"Rua\"].str.extract(r'(^[\\w ]+)')\n",
    "dados_vendas_IQR[\"rua4merging\"] = dados_vendas_IQR[\"rua4merging\"].str.lower().str.strip()\n",
    "dados_vendas_IQR.head(2)"
   ],
   "outputs": [
    {
     "output_type": "execute_result",
     "data": {
      "text/html": [
       "<div>\n",
       "<style scoped>\n",
       "    .dataframe tbody tr th:only-of-type {\n",
       "        vertical-align: middle;\n",
       "    }\n",
       "\n",
       "    .dataframe tbody tr th {\n",
       "        vertical-align: top;\n",
       "    }\n",
       "\n",
       "    .dataframe thead th {\n",
       "        text-align: right;\n",
       "    }\n",
       "</style>\n",
       "<table border=\"1\" class=\"dataframe\">\n",
       "  <thead>\n",
       "    <tr style=\"text-align: right;\">\n",
       "      <th></th>\n",
       "      <th>Rua</th>\n",
       "      <th>Bairro</th>\n",
       "      <th>Cidade</th>\n",
       "      <th>Metragem</th>\n",
       "      <th>Quartos</th>\n",
       "      <th>Banheiros</th>\n",
       "      <th>Vagas</th>\n",
       "      <th>Valor</th>\n",
       "      <th>Valor_por_M</th>\n",
       "      <th>preco_m2</th>\n",
       "      <th>rua4merging</th>\n",
       "    </tr>\n",
       "  </thead>\n",
       "  <tbody>\n",
       "    <tr>\n",
       "      <th>0</th>\n",
       "      <td>Avenida Itacira, 255</td>\n",
       "      <td>Planalto Paulista</td>\n",
       "      <td>São Paulo</td>\n",
       "      <td>1000</td>\n",
       "      <td>4</td>\n",
       "      <td>8</td>\n",
       "      <td>6</td>\n",
       "      <td>7000000.00</td>\n",
       "      <td>7.00</td>\n",
       "      <td>7000.00</td>\n",
       "      <td>avenida itacira</td>\n",
       "    </tr>\n",
       "    <tr>\n",
       "      <th>1</th>\n",
       "      <td>Rua Aurelia Perez Alvarez, 42</td>\n",
       "      <td>Jardim dos Estados</td>\n",
       "      <td>São Paulo</td>\n",
       "      <td>496</td>\n",
       "      <td>4</td>\n",
       "      <td>4</td>\n",
       "      <td>4</td>\n",
       "      <td>3700000.00</td>\n",
       "      <td>3.70</td>\n",
       "      <td>7459.68</td>\n",
       "      <td>rua aurelia perez alvarez</td>\n",
       "    </tr>\n",
       "  </tbody>\n",
       "</table>\n",
       "</div>"
      ],
      "text/plain": [
       "                              Rua              Bairro     Cidade  Metragem  \\\n",
       "0           Avenida Itacira, 255    Planalto Paulista  São Paulo      1000   \n",
       "1  Rua Aurelia Perez Alvarez, 42   Jardim dos Estados  São Paulo       496   \n",
       "\n",
       "   Quartos  Banheiros  Vagas      Valor  Valor_por_M  preco_m2  \\\n",
       "0        4          8      6 7000000.00         7.00   7000.00   \n",
       "1        4          4      4 3700000.00         3.70   7459.68   \n",
       "\n",
       "                 rua4merging  \n",
       "0            avenida itacira  \n",
       "1  rua aurelia perez alvarez  "
      ]
     },
     "metadata": {},
     "execution_count": 252
    }
   ],
   "metadata": {}
  },
  {
   "cell_type": "markdown",
   "source": [
    "É criado um novo dataframe chamado `dados_geo` que armazena a junção dos dataframes `dados_vendas_IQR` e `df_enderecos_sp`."
   ],
   "metadata": {}
  },
  {
   "cell_type": "code",
   "execution_count": 443,
   "source": [
    "dados_geo = pd.merge(left = dados_vendas_IQR,\n",
    "                     right = df_enderecos_sp[[\"rua2merge\", \"cep\", \"latitude\", \"longitude\"]],\n",
    "                     how = \"left\",\n",
    "                     left_on = \"rua4merging\",\n",
    "                     right_on = \"rua2merge\"\n",
    "                     ).drop_duplicates(subset=dados_vendas_IQR.columns).query(\"cep > 0\")\n",
    "dados_geo.head(2)"
   ],
   "outputs": [
    {
     "output_type": "execute_result",
     "data": {
      "text/html": [
       "<div>\n",
       "<style scoped>\n",
       "    .dataframe tbody tr th:only-of-type {\n",
       "        vertical-align: middle;\n",
       "    }\n",
       "\n",
       "    .dataframe tbody tr th {\n",
       "        vertical-align: top;\n",
       "    }\n",
       "\n",
       "    .dataframe thead th {\n",
       "        text-align: right;\n",
       "    }\n",
       "</style>\n",
       "<table border=\"1\" class=\"dataframe\">\n",
       "  <thead>\n",
       "    <tr style=\"text-align: right;\">\n",
       "      <th></th>\n",
       "      <th>Rua</th>\n",
       "      <th>Bairro</th>\n",
       "      <th>Cidade</th>\n",
       "      <th>Metragem</th>\n",
       "      <th>Quartos</th>\n",
       "      <th>Banheiros</th>\n",
       "      <th>Vagas</th>\n",
       "      <th>Valor</th>\n",
       "      <th>Valor_por_M</th>\n",
       "      <th>preco_m2</th>\n",
       "      <th>rua4merging</th>\n",
       "      <th>rua2merge</th>\n",
       "      <th>cep</th>\n",
       "      <th>latitude</th>\n",
       "      <th>longitude</th>\n",
       "    </tr>\n",
       "  </thead>\n",
       "  <tbody>\n",
       "    <tr>\n",
       "      <th>0</th>\n",
       "      <td>Avenida Itacira, 255</td>\n",
       "      <td>Planalto Paulista</td>\n",
       "      <td>São Paulo</td>\n",
       "      <td>1000</td>\n",
       "      <td>4</td>\n",
       "      <td>8</td>\n",
       "      <td>6</td>\n",
       "      <td>7000000.00</td>\n",
       "      <td>7.00</td>\n",
       "      <td>7000.00</td>\n",
       "      <td>avenida itacira</td>\n",
       "      <td>avenida itacira</td>\n",
       "      <td>11443160.00</td>\n",
       "      <td>-23.98</td>\n",
       "      <td>-46.20</td>\n",
       "    </tr>\n",
       "    <tr>\n",
       "      <th>5</th>\n",
       "      <td>Rua Aurelia Perez Alvarez, 42</td>\n",
       "      <td>Jardim dos Estados</td>\n",
       "      <td>São Paulo</td>\n",
       "      <td>496</td>\n",
       "      <td>4</td>\n",
       "      <td>4</td>\n",
       "      <td>4</td>\n",
       "      <td>3700000.00</td>\n",
       "      <td>3.70</td>\n",
       "      <td>7459.68</td>\n",
       "      <td>rua aurelia perez alvarez</td>\n",
       "      <td>rua aurelia perez alvarez</td>\n",
       "      <td>4642020.00</td>\n",
       "      <td>-23.64</td>\n",
       "      <td>-46.69</td>\n",
       "    </tr>\n",
       "  </tbody>\n",
       "</table>\n",
       "</div>"
      ],
      "text/plain": [
       "                              Rua              Bairro     Cidade  Metragem  \\\n",
       "0           Avenida Itacira, 255    Planalto Paulista  São Paulo      1000   \n",
       "5  Rua Aurelia Perez Alvarez, 42   Jardim dos Estados  São Paulo       496   \n",
       "\n",
       "   Quartos  Banheiros  Vagas      Valor  Valor_por_M  preco_m2  \\\n",
       "0        4          8      6 7000000.00         7.00   7000.00   \n",
       "5        4          4      4 3700000.00         3.70   7459.68   \n",
       "\n",
       "                 rua4merging                  rua2merge         cep  latitude  \\\n",
       "0            avenida itacira            avenida itacira 11443160.00    -23.98   \n",
       "5  rua aurelia perez alvarez  rua aurelia perez alvarez  4642020.00    -23.64   \n",
       "\n",
       "   longitude  \n",
       "0     -46.20  \n",
       "5     -46.69  "
      ]
     },
     "metadata": {},
     "execution_count": 443
    }
   ],
   "metadata": {}
  },
  {
   "cell_type": "markdown",
   "source": [
    "### Base de dados para o geopandas (dimensões do polígono)"
   ],
   "metadata": {}
  },
  {
   "cell_type": "markdown",
   "source": [
    "Os dados censitários são lidos da base de dados geoespaciais utilizando o geopandas."
   ],
   "metadata": {}
  },
  {
   "cell_type": "code",
   "execution_count": 368,
   "source": [
    "setor_censo = gpd.read_file('data/35SEE250GC_SIR.shp')\n",
    "setor_censo.head(2)"
   ],
   "outputs": [
    {
     "output_type": "execute_result",
     "data": {
      "text/html": [
       "<div>\n",
       "<style scoped>\n",
       "    .dataframe tbody tr th:only-of-type {\n",
       "        vertical-align: middle;\n",
       "    }\n",
       "\n",
       "    .dataframe tbody tr th {\n",
       "        vertical-align: top;\n",
       "    }\n",
       "\n",
       "    .dataframe thead th {\n",
       "        text-align: right;\n",
       "    }\n",
       "</style>\n",
       "<table border=\"1\" class=\"dataframe\">\n",
       "  <thead>\n",
       "    <tr style=\"text-align: right;\">\n",
       "      <th></th>\n",
       "      <th>ID</th>\n",
       "      <th>CD_GEOCODI</th>\n",
       "      <th>TIPO</th>\n",
       "      <th>CD_GEOCODS</th>\n",
       "      <th>NM_SUBDIST</th>\n",
       "      <th>CD_GEOCODD</th>\n",
       "      <th>NM_DISTRIT</th>\n",
       "      <th>CD_GEOCODM</th>\n",
       "      <th>NM_MUNICIP</th>\n",
       "      <th>NM_MICRO</th>\n",
       "      <th>NM_MESO</th>\n",
       "      <th>CD_GEOCODB</th>\n",
       "      <th>NM_BAIRRO</th>\n",
       "      <th>ID1</th>\n",
       "      <th>geometry</th>\n",
       "    </tr>\n",
       "  </thead>\n",
       "  <tbody>\n",
       "    <tr>\n",
       "      <th>0</th>\n",
       "      <td>98237.00</td>\n",
       "      <td>354100005000009</td>\n",
       "      <td>URBANO</td>\n",
       "      <td>35410000500</td>\n",
       "      <td>None</td>\n",
       "      <td>354100005</td>\n",
       "      <td>PRAIA GRANDE</td>\n",
       "      <td>3541000</td>\n",
       "      <td>PRAIA GRANDE</td>\n",
       "      <td>SANTOS</td>\n",
       "      <td>METROPOLITANA DE SÃO PAULO</td>\n",
       "      <td>354100005001</td>\n",
       "      <td>Boqueirão</td>\n",
       "      <td>1</td>\n",
       "      <td>POLYGON ((-46.41024 -24.01103, -46.41169 -24.0...</td>\n",
       "    </tr>\n",
       "    <tr>\n",
       "      <th>1</th>\n",
       "      <td>98232.00</td>\n",
       "      <td>354100005000004</td>\n",
       "      <td>URBANO</td>\n",
       "      <td>35410000500</td>\n",
       "      <td>None</td>\n",
       "      <td>354100005</td>\n",
       "      <td>PRAIA GRANDE</td>\n",
       "      <td>3541000</td>\n",
       "      <td>PRAIA GRANDE</td>\n",
       "      <td>SANTOS</td>\n",
       "      <td>METROPOLITANA DE SÃO PAULO</td>\n",
       "      <td>354100005001</td>\n",
       "      <td>Boqueirão</td>\n",
       "      <td>2</td>\n",
       "      <td>POLYGON ((-46.41606 -24.00245, -46.41598 -24.0...</td>\n",
       "    </tr>\n",
       "  </tbody>\n",
       "</table>\n",
       "</div>"
      ],
      "text/plain": [
       "        ID       CD_GEOCODI    TIPO   CD_GEOCODS NM_SUBDIST CD_GEOCODD  \\\n",
       "0 98237.00  354100005000009  URBANO  35410000500       None  354100005   \n",
       "1 98232.00  354100005000004  URBANO  35410000500       None  354100005   \n",
       "\n",
       "     NM_DISTRIT CD_GEOCODM    NM_MUNICIP NM_MICRO                     NM_MESO  \\\n",
       "0  PRAIA GRANDE    3541000  PRAIA GRANDE   SANTOS  METROPOLITANA DE SÃO PAULO   \n",
       "1  PRAIA GRANDE    3541000  PRAIA GRANDE   SANTOS  METROPOLITANA DE SÃO PAULO   \n",
       "\n",
       "     CD_GEOCODB  NM_BAIRRO  ID1  \\\n",
       "0  354100005001  Boqueirão    1   \n",
       "1  354100005001  Boqueirão    2   \n",
       "\n",
       "                                            geometry  \n",
       "0  POLYGON ((-46.41024 -24.01103, -46.41169 -24.0...  \n",
       "1  POLYGON ((-46.41606 -24.00245, -46.41598 -24.0...  "
      ]
     },
     "metadata": {},
     "execution_count": 368
    }
   ],
   "metadata": {}
  },
  {
   "cell_type": "markdown",
   "source": [
    "Os dados são filtrados para São Paulo"
   ],
   "metadata": {}
  },
  {
   "cell_type": "code",
   "execution_count": 370,
   "source": [
    "# filtrando os dados para o município de São Paulo\n",
    "setor_censo_sp = setor_censo[setor_censo.NM_MUNICIP == \"SÃO PAULO\"]\n",
    "\n",
    "# Retorna os itens de setor_censo_cp que contém o ponto de interesse\n",
    "setor_censo_sp[setor_censo_sp.contains(Point(-46.63, -23.58))]"
   ],
   "outputs": [
    {
     "output_type": "execute_result",
     "data": {
      "text/html": [
       "<div>\n",
       "<style scoped>\n",
       "    .dataframe tbody tr th:only-of-type {\n",
       "        vertical-align: middle;\n",
       "    }\n",
       "\n",
       "    .dataframe tbody tr th {\n",
       "        vertical-align: top;\n",
       "    }\n",
       "\n",
       "    .dataframe thead th {\n",
       "        text-align: right;\n",
       "    }\n",
       "</style>\n",
       "<table border=\"1\" class=\"dataframe\">\n",
       "  <thead>\n",
       "    <tr style=\"text-align: right;\">\n",
       "      <th></th>\n",
       "      <th>ID</th>\n",
       "      <th>CD_GEOCODI</th>\n",
       "      <th>TIPO</th>\n",
       "      <th>CD_GEOCODS</th>\n",
       "      <th>NM_SUBDIST</th>\n",
       "      <th>CD_GEOCODD</th>\n",
       "      <th>NM_DISTRIT</th>\n",
       "      <th>CD_GEOCODM</th>\n",
       "      <th>NM_MUNICIP</th>\n",
       "      <th>NM_MICRO</th>\n",
       "      <th>NM_MESO</th>\n",
       "      <th>CD_GEOCODB</th>\n",
       "      <th>NM_BAIRRO</th>\n",
       "      <th>ID1</th>\n",
       "      <th>geometry</th>\n",
       "    </tr>\n",
       "  </thead>\n",
       "  <tbody>\n",
       "    <tr>\n",
       "      <th>60986</th>\n",
       "      <td>126568.00</td>\n",
       "      <td>355030890000080</td>\n",
       "      <td>URBANO</td>\n",
       "      <td>35503089000</td>\n",
       "      <td>None</td>\n",
       "      <td>355030890</td>\n",
       "      <td>VILA MARIANA</td>\n",
       "      <td>3550308</td>\n",
       "      <td>SÃO PAULO</td>\n",
       "      <td>SÃO PAULO</td>\n",
       "      <td>METROPOLITANA DE SÃO PAULO</td>\n",
       "      <td>None</td>\n",
       "      <td>None</td>\n",
       "      <td>60987</td>\n",
       "      <td>POLYGON ((-46.62618 -23.58169, -46.62863 -23.5...</td>\n",
       "    </tr>\n",
       "  </tbody>\n",
       "</table>\n",
       "</div>"
      ],
      "text/plain": [
       "             ID       CD_GEOCODI    TIPO   CD_GEOCODS NM_SUBDIST CD_GEOCODD  \\\n",
       "60986 126568.00  355030890000080  URBANO  35503089000       None  355030890   \n",
       "\n",
       "         NM_DISTRIT CD_GEOCODM NM_MUNICIP   NM_MICRO  \\\n",
       "60986  VILA MARIANA    3550308  SÃO PAULO  SÃO PAULO   \n",
       "\n",
       "                          NM_MESO CD_GEOCODB NM_BAIRRO    ID1  \\\n",
       "60986  METROPOLITANA DE SÃO PAULO       None      None  60987   \n",
       "\n",
       "                                                geometry  \n",
       "60986  POLYGON ((-46.62618 -23.58169, -46.62863 -23.5...  "
      ]
     },
     "metadata": {},
     "execution_count": 370
    }
   ],
   "metadata": {}
  },
  {
   "cell_type": "markdown",
   "source": [
    "A próxima célula tem um grande papel no processo de relacionamento dos datasets. O código desta célula tem os seguintes passos:\n",
    "\n",
    "- Cria os pontos geográficos baseados na latitude e longitude e os armazenam em uma nova coluna do dataframe dados_geo chamada de \"Point\";\n",
    "<br><br>\n",
    "- Verifica se o ponto está contido em um dos polígonos da base de dados `setor_censo_sp`. Caso afirmativo, é retornado o código do setor censitário e este é armazenado em uma nova coluna do dataframe `dados_geo`.\n",
    "<br><br>"
   ],
   "metadata": {}
  },
  {
   "cell_type": "code",
   "execution_count": 396,
   "source": [
    "# Armazena na coluna Point os pontos delimitados pela longitude e latitude.\n",
    "dados_geo[\"Point\"] = \"\"\n",
    "for i in dados_geo.index:\n",
    "    dados_geo[\"Point\"][i] = Point(dados_geo[\"longitude\"][i], dados_geo[\"latitude\"][i])\n",
    "\n",
    "# A partir de \"Point\" é buscado o setor censitário no dataframe setor_censo_sp\n",
    "dados_geo['setor_censo'] = dados_geo[\"Point\"].map(\n",
    "    lambda x: setor_censo_sp.loc[setor_censo_sp.contains(x), 'CD_GEOCODI'].values\n",
    ").str[0]\n",
    "\n",
    " dados_geo.head(2)"
   ],
   "outputs": [
    {
     "output_type": "execute_result",
     "data": {
      "text/plain": [
       "0                    []\n",
       "5     [355030871000023]\n",
       "6     [355030830000050]\n",
       "7                    []\n",
       "26                   []\n",
       "39    [355030865000169]\n",
       "40    [355030859000013]\n",
       "41    [355030846000047]\n",
       "42    [355030834000022]\n",
       "44    [355030893000075]\n",
       "Name: Point, dtype: object"
      ]
     },
     "metadata": {},
     "execution_count": 396
    }
   ],
   "metadata": {}
  },
  {
   "cell_type": "code",
   "execution_count": 392,
   "source": [
    "# Convertendo o tipo da coluna setor_censo para inteiro\n",
    "dados_geo['setor_censo'] = dados_geo['setor_censo'].dropna().astype(int)"
   ],
   "outputs": [],
   "metadata": {}
  },
  {
   "cell_type": "markdown",
   "source": [
    "Após a realização desta operação, o dataframe `dados_geo` possui uma coluna com os códigos do setor censitário que podem ser relacionadas com o dataframe `ibge_sp` que também possui uma coluna com os códigos do setor censitário. \n",
    "\n",
    "Portanto, é possível completar o objetivo de relacionar os dados da base de dados principal com os dados de renda presentes na base de dados do IBGE. Isto é alcançado através do `merge` (junção) dos dois dataframes."
   ],
   "metadata": {}
  },
  {
   "cell_type": "code",
   "execution_count": 393,
   "source": [
    "dados_vendas_censo = pd.merge(left = dados_geo,\n",
    "                              right =ibge_sp ,\n",
    "                              how = \"left\",\n",
    "                              left_on = \"setor_censo\",\n",
    "                              right_on = \"Cod_setor\")\n",
    "dados_vendas_censo.head(2)"
   ],
   "outputs": [
    {
     "output_type": "execute_result",
     "data": {
      "text/html": [
       "<div>\n",
       "<style scoped>\n",
       "    .dataframe tbody tr th:only-of-type {\n",
       "        vertical-align: middle;\n",
       "    }\n",
       "\n",
       "    .dataframe tbody tr th {\n",
       "        vertical-align: top;\n",
       "    }\n",
       "\n",
       "    .dataframe thead th {\n",
       "        text-align: right;\n",
       "    }\n",
       "</style>\n",
       "<table border=\"1\" class=\"dataframe\">\n",
       "  <thead>\n",
       "    <tr style=\"text-align: right;\">\n",
       "      <th></th>\n",
       "      <th>Rua</th>\n",
       "      <th>Bairro</th>\n",
       "      <th>Cidade</th>\n",
       "      <th>Metragem</th>\n",
       "      <th>Quartos</th>\n",
       "      <th>Banheiros</th>\n",
       "      <th>Vagas</th>\n",
       "      <th>Valor</th>\n",
       "      <th>Valor_por_M</th>\n",
       "      <th>preco_m2</th>\n",
       "      <th>...</th>\n",
       "      <th>V003</th>\n",
       "      <th>V004</th>\n",
       "      <th>V005</th>\n",
       "      <th>V006</th>\n",
       "      <th>V007</th>\n",
       "      <th>V008</th>\n",
       "      <th>V009</th>\n",
       "      <th>V010</th>\n",
       "      <th>V011</th>\n",
       "      <th>V012</th>\n",
       "    </tr>\n",
       "  </thead>\n",
       "  <tbody>\n",
       "    <tr>\n",
       "      <th>0</th>\n",
       "      <td>Avenida Itacira, 255</td>\n",
       "      <td>Planalto Paulista</td>\n",
       "      <td>São Paulo</td>\n",
       "      <td>1000</td>\n",
       "      <td>4</td>\n",
       "      <td>8</td>\n",
       "      <td>6</td>\n",
       "      <td>7000000.00</td>\n",
       "      <td>7.00</td>\n",
       "      <td>7000.00</td>\n",
       "      <td>...</td>\n",
       "      <td>nan</td>\n",
       "      <td>nan</td>\n",
       "      <td>nan</td>\n",
       "      <td>nan</td>\n",
       "      <td>nan</td>\n",
       "      <td>nan</td>\n",
       "      <td>nan</td>\n",
       "      <td>nan</td>\n",
       "      <td>nan</td>\n",
       "      <td>nan</td>\n",
       "    </tr>\n",
       "    <tr>\n",
       "      <th>1</th>\n",
       "      <td>Rua Aurelia Perez Alvarez, 42</td>\n",
       "      <td>Jardim dos Estados</td>\n",
       "      <td>São Paulo</td>\n",
       "      <td>496</td>\n",
       "      <td>4</td>\n",
       "      <td>4</td>\n",
       "      <td>4</td>\n",
       "      <td>3700000.00</td>\n",
       "      <td>3.70</td>\n",
       "      <td>7459.68</td>\n",
       "      <td>...</td>\n",
       "      <td>3.13</td>\n",
       "      <td>1.96</td>\n",
       "      <td>7600.44</td>\n",
       "      <td>36778930.17</td>\n",
       "      <td>7890.53</td>\n",
       "      <td>35886906.64</td>\n",
       "      <td>4149.00</td>\n",
       "      <td>26760682.90</td>\n",
       "      <td>6063.92</td>\n",
       "      <td>27502674.90</td>\n",
       "    </tr>\n",
       "  </tbody>\n",
       "</table>\n",
       "<p>2 rows × 50 columns</p>\n",
       "</div>"
      ],
      "text/plain": [
       "                              Rua              Bairro     Cidade  Metragem  \\\n",
       "0           Avenida Itacira, 255    Planalto Paulista  São Paulo      1000   \n",
       "1  Rua Aurelia Perez Alvarez, 42   Jardim dos Estados  São Paulo       496   \n",
       "\n",
       "   Quartos  Banheiros  Vagas      Valor  Valor_por_M  preco_m2  ... V003 V004  \\\n",
       "0        4          8      6 7000000.00         7.00   7000.00  ...  nan  nan   \n",
       "1        4          4      4 3700000.00         3.70   7459.68  ... 3.13 1.96   \n",
       "\n",
       "     V005        V006    V007        V008    V009        V010    V011  \\\n",
       "0     nan         nan     nan         nan     nan         nan     nan   \n",
       "1 7600.44 36778930.17 7890.53 35886906.64 4149.00 26760682.90 6063.92   \n",
       "\n",
       "         V012  \n",
       "0         nan  \n",
       "1 27502674.90  \n",
       "\n",
       "[2 rows x 50 columns]"
      ]
     },
     "metadata": {},
     "execution_count": 393
    }
   ],
   "metadata": {}
  },
  {
   "cell_type": "markdown",
   "source": [
    "# 04. Machine Learning: problema de regressão"
   ],
   "metadata": {}
  },
  {
   "cell_type": "markdown",
   "source": [
    "## Construção do Baseline"
   ],
   "metadata": {}
  },
  {
   "cell_type": "code",
   "execution_count": 426,
   "source": [
    "dados_vendas_IQR.head(1)"
   ],
   "outputs": [
    {
     "output_type": "execute_result",
     "data": {
      "text/html": [
       "<div>\n",
       "<style scoped>\n",
       "    .dataframe tbody tr th:only-of-type {\n",
       "        vertical-align: middle;\n",
       "    }\n",
       "\n",
       "    .dataframe tbody tr th {\n",
       "        vertical-align: top;\n",
       "    }\n",
       "\n",
       "    .dataframe thead th {\n",
       "        text-align: right;\n",
       "    }\n",
       "</style>\n",
       "<table border=\"1\" class=\"dataframe\">\n",
       "  <thead>\n",
       "    <tr style=\"text-align: right;\">\n",
       "      <th></th>\n",
       "      <th>Rua</th>\n",
       "      <th>Bairro</th>\n",
       "      <th>Cidade</th>\n",
       "      <th>Metragem</th>\n",
       "      <th>Quartos</th>\n",
       "      <th>Banheiros</th>\n",
       "      <th>Vagas</th>\n",
       "      <th>Valor</th>\n",
       "      <th>Valor_por_M</th>\n",
       "      <th>preco_m2</th>\n",
       "      <th>rua4merging</th>\n",
       "    </tr>\n",
       "  </thead>\n",
       "  <tbody>\n",
       "    <tr>\n",
       "      <th>0</th>\n",
       "      <td>Avenida Itacira, 255</td>\n",
       "      <td>Planalto Paulista</td>\n",
       "      <td>São Paulo</td>\n",
       "      <td>1000</td>\n",
       "      <td>4</td>\n",
       "      <td>8</td>\n",
       "      <td>6</td>\n",
       "      <td>7000000.00</td>\n",
       "      <td>7.00</td>\n",
       "      <td>7000.00</td>\n",
       "      <td>avenida itacira</td>\n",
       "    </tr>\n",
       "  </tbody>\n",
       "</table>\n",
       "</div>"
      ],
      "text/plain": [
       "                     Rua             Bairro     Cidade  Metragem  Quartos  \\\n",
       "0  Avenida Itacira, 255   Planalto Paulista  São Paulo      1000        4   \n",
       "\n",
       "   Banheiros  Vagas      Valor  Valor_por_M  preco_m2      rua4merging  \n",
       "0          8      6 7000000.00         7.00   7000.00  avenida itacira  "
      ]
     },
     "metadata": {},
     "execution_count": 426
    }
   ],
   "metadata": {}
  },
  {
   "cell_type": "code",
   "execution_count": 427,
   "source": [
    "df_baseline = dados_vendas_IQR[[\"Valor\", \"Metragem\", \"Quartos\", \"Banheiros\", \"Vagas\"]].dropna()\n",
    "df_baseline.head(1)"
   ],
   "outputs": [
    {
     "output_type": "execute_result",
     "data": {
      "text/html": [
       "<div>\n",
       "<style scoped>\n",
       "    .dataframe tbody tr th:only-of-type {\n",
       "        vertical-align: middle;\n",
       "    }\n",
       "\n",
       "    .dataframe tbody tr th {\n",
       "        vertical-align: top;\n",
       "    }\n",
       "\n",
       "    .dataframe thead th {\n",
       "        text-align: right;\n",
       "    }\n",
       "</style>\n",
       "<table border=\"1\" class=\"dataframe\">\n",
       "  <thead>\n",
       "    <tr style=\"text-align: right;\">\n",
       "      <th></th>\n",
       "      <th>Valor</th>\n",
       "      <th>Metragem</th>\n",
       "      <th>Quartos</th>\n",
       "      <th>Banheiros</th>\n",
       "      <th>Vagas</th>\n",
       "    </tr>\n",
       "  </thead>\n",
       "  <tbody>\n",
       "    <tr>\n",
       "      <th>0</th>\n",
       "      <td>7000000.00</td>\n",
       "      <td>1000</td>\n",
       "      <td>4</td>\n",
       "      <td>8</td>\n",
       "      <td>6</td>\n",
       "    </tr>\n",
       "  </tbody>\n",
       "</table>\n",
       "</div>"
      ],
      "text/plain": [
       "       Valor  Metragem  Quartos  Banheiros  Vagas\n",
       "0 7000000.00      1000        4          8      6"
      ]
     },
     "metadata": {},
     "execution_count": 427
    }
   ],
   "metadata": {}
  },
  {
   "cell_type": "code",
   "execution_count": 428,
   "source": [
    "y = df_baseline.pop(\"Valor\")\n",
    "X = df_baseline"
   ],
   "outputs": [],
   "metadata": {}
  },
  {
   "cell_type": "code",
   "execution_count": 429,
   "source": [
    "SEED = 42\n",
    "np.random.seed(SEED)"
   ],
   "outputs": [],
   "metadata": {}
  },
  {
   "cell_type": "code",
   "execution_count": 430,
   "source": [
    "from sklearn.linear_model import LinearRegression\n",
    "from sklearn.model_selection import train_test_split\n",
    "\n",
    "X_train, X_test, y_train, y_test = train_test_split(X, y, test_size = 0.25, random_state = 42)\n",
    "lr = LinearRegression()"
   ],
   "outputs": [],
   "metadata": {}
  },
  {
   "cell_type": "code",
   "execution_count": 431,
   "source": [
    "lr.fit(X_train, y_train)"
   ],
   "outputs": [
    {
     "output_type": "execute_result",
     "data": {
      "text/plain": [
       "LinearRegression()"
      ]
     },
     "metadata": {},
     "execution_count": 431
    }
   ],
   "metadata": {}
  },
  {
   "cell_type": "code",
   "execution_count": 432,
   "source": [
    "from sklearn.metrics import mean_absolute_error, r2_score\n",
    "from sklearn import metrics\n",
    "\n",
    "mean_absolute_error(y_train, lr.predict(X_train))"
   ],
   "outputs": [
    {
     "output_type": "execute_result",
     "data": {
      "text/plain": [
       "956750.3499079415"
      ]
     },
     "metadata": {},
     "execution_count": 432
    }
   ],
   "metadata": {}
  },
  {
   "cell_type": "code",
   "execution_count": 433,
   "source": [
    "y_previsto = lr.predict(X_test)\n",
    "\n",
    "def metricas(y_test, y_predicted, label):\n",
    "    EAM = metrics.mean_absolute_error(y_test, y_predicted).round(2)\n",
    "    EQM = metrics.mean_squared_error(y_test, y_predicted).round(2)\n",
    "    REQM = np.sqrt(metrics.mean_squared_error(y_test, y_predicted)).round(2)\n",
    "    R2 = metrics.r2_score(y_test, y_predicted).round(2)\n",
    "\n",
    "    resultados = pd.DataFrame([EAM, EQM, REQM, R2], ['EAM', 'EQM', 'REQM', 'R²'], columns = [label])\n",
    "    return resultados\n",
    "\n",
    "resultados = metricas(y_test, y_previsto, 'Baseline')"
   ],
   "outputs": [],
   "metadata": {}
  },
  {
   "cell_type": "markdown",
   "source": [
    "## Modelo mais complexo"
   ],
   "metadata": {}
  },
  {
   "cell_type": "code",
   "execution_count": 434,
   "source": [
    "# Selecionando as colunas relevantes para a análise \n",
    "dados_vendas_censo = dados_vendas_censo[['Rua', 'Bairro', 'Cidade', 'Metragem', 'Quartos', 'Banheiros', 'Vagas',\n",
    "       'Valor', 'Valor_por_M', 'preco_m2', 'latitude', 'longitude', 'Situacao_setor', 'V001',\n",
    "       'V002', 'V003', 'V004', 'V005', 'V006', 'V007', 'V008', 'V009', 'V010',\n",
    "       'V011', 'V012']].dropna()\n",
    "\n",
    "dados_vendas_censo.head(2)"
   ],
   "outputs": [
    {
     "output_type": "execute_result",
     "data": {
      "text/html": [
       "<div>\n",
       "<style scoped>\n",
       "    .dataframe tbody tr th:only-of-type {\n",
       "        vertical-align: middle;\n",
       "    }\n",
       "\n",
       "    .dataframe tbody tr th {\n",
       "        vertical-align: top;\n",
       "    }\n",
       "\n",
       "    .dataframe thead th {\n",
       "        text-align: right;\n",
       "    }\n",
       "</style>\n",
       "<table border=\"1\" class=\"dataframe\">\n",
       "  <thead>\n",
       "    <tr style=\"text-align: right;\">\n",
       "      <th></th>\n",
       "      <th>Rua</th>\n",
       "      <th>Bairro</th>\n",
       "      <th>Cidade</th>\n",
       "      <th>Metragem</th>\n",
       "      <th>Quartos</th>\n",
       "      <th>Banheiros</th>\n",
       "      <th>Vagas</th>\n",
       "      <th>Valor</th>\n",
       "      <th>Valor_por_M</th>\n",
       "      <th>preco_m2</th>\n",
       "      <th>...</th>\n",
       "      <th>V003</th>\n",
       "      <th>V004</th>\n",
       "      <th>V005</th>\n",
       "      <th>V006</th>\n",
       "      <th>V007</th>\n",
       "      <th>V008</th>\n",
       "      <th>V009</th>\n",
       "      <th>V010</th>\n",
       "      <th>V011</th>\n",
       "      <th>V012</th>\n",
       "    </tr>\n",
       "  </thead>\n",
       "  <tbody>\n",
       "    <tr>\n",
       "      <th>1</th>\n",
       "      <td>Rua Aurelia Perez Alvarez, 42</td>\n",
       "      <td>Jardim dos Estados</td>\n",
       "      <td>São Paulo</td>\n",
       "      <td>496</td>\n",
       "      <td>4</td>\n",
       "      <td>4</td>\n",
       "      <td>4</td>\n",
       "      <td>3700000.00</td>\n",
       "      <td>3.70</td>\n",
       "      <td>7459.68</td>\n",
       "      <td>...</td>\n",
       "      <td>3.13</td>\n",
       "      <td>1.96</td>\n",
       "      <td>7600.44</td>\n",
       "      <td>36778930.17</td>\n",
       "      <td>7890.53</td>\n",
       "      <td>35886906.64</td>\n",
       "      <td>4149.00</td>\n",
       "      <td>26760682.90</td>\n",
       "      <td>6063.92</td>\n",
       "      <td>27502674.90</td>\n",
       "    </tr>\n",
       "    <tr>\n",
       "      <th>2</th>\n",
       "      <td>Rua Alba Valdez</td>\n",
       "      <td>Jardim Reimberg</td>\n",
       "      <td>São Paulo</td>\n",
       "      <td>125</td>\n",
       "      <td>4</td>\n",
       "      <td>3</td>\n",
       "      <td>2</td>\n",
       "      <td>380000.00</td>\n",
       "      <td>0.38</td>\n",
       "      <td>3040.00</td>\n",
       "      <td>...</td>\n",
       "      <td>3.47</td>\n",
       "      <td>3.06</td>\n",
       "      <td>805.13</td>\n",
       "      <td>769188.78</td>\n",
       "      <td>1011.75</td>\n",
       "      <td>757433.42</td>\n",
       "      <td>518.77</td>\n",
       "      <td>426672.78</td>\n",
       "      <td>858.51</td>\n",
       "      <td>414378.88</td>\n",
       "    </tr>\n",
       "  </tbody>\n",
       "</table>\n",
       "<p>2 rows × 25 columns</p>\n",
       "</div>"
      ],
      "text/plain": [
       "                              Rua              Bairro     Cidade  Metragem  \\\n",
       "1  Rua Aurelia Perez Alvarez, 42   Jardim dos Estados  São Paulo       496   \n",
       "2                 Rua Alba Valdez     Jardim Reimberg  São Paulo       125   \n",
       "\n",
       "   Quartos  Banheiros  Vagas      Valor  Valor_por_M  preco_m2  ...  V003  \\\n",
       "1        4          4      4 3700000.00         3.70   7459.68  ...  3.13   \n",
       "2        4          3      2  380000.00         0.38   3040.00  ...  3.47   \n",
       "\n",
       "   V004    V005        V006    V007        V008    V009        V010    V011  \\\n",
       "1  1.96 7600.44 36778930.17 7890.53 35886906.64 4149.00 26760682.90 6063.92   \n",
       "2  3.06  805.13   769188.78 1011.75   757433.42  518.77   426672.78  858.51   \n",
       "\n",
       "         V012  \n",
       "1 27502674.90  \n",
       "2   414378.88  \n",
       "\n",
       "[2 rows x 25 columns]"
      ]
     },
     "metadata": {},
     "execution_count": 434
    }
   ],
   "metadata": {}
  },
  {
   "cell_type": "code",
   "execution_count": 435,
   "source": [
    "plt.figure(figsize=(18, 8))\n",
    "\n",
    "# Máscara para omitir a diagonal superior \n",
    "mask = np.triu(np.ones_like(dados_vendas_censo.corr(), dtype=bool))\n",
    "heatmap = sns.heatmap(dados_vendas_censo.corr(),\n",
    "                      mask=mask,\n",
    "                      vmin=-1,\n",
    "                      vmax=1,\n",
    "                      annot=True,\n",
    "                      cmap='BrBG')\n",
    "heatmap.set_title('Matriz de Correlação', fontdict={'fontsize':18}, pad=16);"
   ],
   "outputs": [
    {
     "output_type": "display_data",
     "data": {
      "image/png": "[encoded data removed]",
      "text/plain": [
       "<Figure size 1296x576 with 2 Axes>"
      ]
     },
     "metadata": {}
    }
   ],
   "metadata": {}
  },
  {
   "cell_type": "code",
   "execution_count": 436,
   "source": [
    "# Selecionando a matriz de features e o target\n",
    "X = dados_vendas_censo[['Metragem', 'Quartos', 'Banheiros', 'Vagas','latitude', 'longitude', 'V001', 'V002', 'V003', 'V004', 'V005', 'V006', 'V007', 'V008', 'V009', 'V010', 'V011', 'V012']]\n",
    "y = dados_vendas_censo[\"Valor\"]\n",
    "\n",
    "# Separação dos dados em conjuntos de treino e teste\n",
    "X_train, X_test, y_train, y_test = train_test_split(X, y, test_size = 0.25, random_state = 42)\n",
    "\n",
    "# Ajuste do modelo\n",
    "lr.fit(X_train, y_train)\n",
    "\n",
    "# Labels preditos para os conjuntos de treino e teste\n",
    "y_predict_test = lr.predict(X_test)\n",
    "y_predict_train = lr.predict(X_train)\n",
    "\n",
    "# métricas para o conjunto de teste\n",
    "mae_test = mean_absolute_error(y_test, y_predict_test)\n",
    "r2_test = r2_score(y_test, y_predict_test)\n",
    "\n",
    "# métricas para o conjunto de treino\n",
    "mae_train = mean_absolute_error(y_train, y_predict_train)\n",
    "r2_train = r2_score(y_train, y_predict_train)"
   ],
   "outputs": [],
   "metadata": {}
  },
  {
   "cell_type": "code",
   "execution_count": 437,
   "source": [
    "metricas(y_test, lr.predict(X_test), 'Total')"
   ],
   "outputs": [
    {
     "output_type": "execute_result",
     "data": {
      "text/html": [
       "<div>\n",
       "<style scoped>\n",
       "    .dataframe tbody tr th:only-of-type {\n",
       "        vertical-align: middle;\n",
       "    }\n",
       "\n",
       "    .dataframe tbody tr th {\n",
       "        vertical-align: top;\n",
       "    }\n",
       "\n",
       "    .dataframe thead th {\n",
       "        text-align: right;\n",
       "    }\n",
       "</style>\n",
       "<table border=\"1\" class=\"dataframe\">\n",
       "  <thead>\n",
       "    <tr style=\"text-align: right;\">\n",
       "      <th></th>\n",
       "      <th>Total</th>\n",
       "    </tr>\n",
       "  </thead>\n",
       "  <tbody>\n",
       "    <tr>\n",
       "      <th>EAM</th>\n",
       "      <td>744854.88</td>\n",
       "    </tr>\n",
       "    <tr>\n",
       "      <th>EQM</th>\n",
       "      <td>1164386837731.90</td>\n",
       "    </tr>\n",
       "    <tr>\n",
       "      <th>REQM</th>\n",
       "      <td>1079067.58</td>\n",
       "    </tr>\n",
       "    <tr>\n",
       "      <th>R²</th>\n",
       "      <td>0.50</td>\n",
       "    </tr>\n",
       "  </tbody>\n",
       "</table>\n",
       "</div>"
      ],
      "text/plain": [
       "                Total\n",
       "EAM         744854.88\n",
       "EQM  1164386837731.90\n",
       "REQM       1079067.58\n",
       "R²               0.50"
      ]
     },
     "metadata": {},
     "execution_count": 437
    }
   ],
   "metadata": {}
  },
  {
   "cell_type": "code",
   "execution_count": 438,
   "source": [
    "resultados = pd.concat([resultados, metricas(y_test, lr.predict(X_test), 'V01')], axis=1)\n",
    "resultados"
   ],
   "outputs": [
    {
     "output_type": "execute_result",
     "data": {
      "text/html": [
       "<div>\n",
       "<style scoped>\n",
       "    .dataframe tbody tr th:only-of-type {\n",
       "        vertical-align: middle;\n",
       "    }\n",
       "\n",
       "    .dataframe tbody tr th {\n",
       "        vertical-align: top;\n",
       "    }\n",
       "\n",
       "    .dataframe thead th {\n",
       "        text-align: right;\n",
       "    }\n",
       "</style>\n",
       "<table border=\"1\" class=\"dataframe\">\n",
       "  <thead>\n",
       "    <tr style=\"text-align: right;\">\n",
       "      <th></th>\n",
       "      <th>Baseline</th>\n",
       "      <th>V01</th>\n",
       "    </tr>\n",
       "  </thead>\n",
       "  <tbody>\n",
       "    <tr>\n",
       "      <th>EAM</th>\n",
       "      <td>956753.38</td>\n",
       "      <td>744854.88</td>\n",
       "    </tr>\n",
       "    <tr>\n",
       "      <th>EQM</th>\n",
       "      <td>1688502931752.25</td>\n",
       "      <td>1164386837731.90</td>\n",
       "    </tr>\n",
       "    <tr>\n",
       "      <th>REQM</th>\n",
       "      <td>1299424.08</td>\n",
       "      <td>1079067.58</td>\n",
       "    </tr>\n",
       "    <tr>\n",
       "      <th>R²</th>\n",
       "      <td>0.33</td>\n",
       "      <td>0.50</td>\n",
       "    </tr>\n",
       "  </tbody>\n",
       "</table>\n",
       "</div>"
      ],
      "text/plain": [
       "             Baseline              V01\n",
       "EAM         956753.38        744854.88\n",
       "EQM  1688502931752.25 1164386837731.90\n",
       "REQM       1299424.08       1079067.58\n",
       "R²               0.33             0.50"
      ]
     },
     "metadata": {},
     "execution_count": 438
    }
   ],
   "metadata": {}
  },
  {
   "cell_type": "markdown",
   "source": [
    "## Redução de Dimensionalidade"
   ],
   "metadata": {}
  },
  {
   "cell_type": "code",
   "execution_count": 439,
   "source": [
    "from sklearn.feature_selection import RFECV\n",
    "\n",
    "SEED = 42\n",
    "np.random.seed(SEED)\n",
    "\n",
    "X_train, X_test, y_train, y_test = train_test_split(X, y, test_size = 0.25)\n",
    "\n",
    "lr = LinearRegression()\n",
    "lr.fit(X_train, y_train)\n",
    "\n",
    "selecionador_rfecv = RFECV(estimator = lr, cv = 10, step = 1, min_features_to_select=12)\n",
    "selecionador_rfecv.fit(X_train, y_train)\n",
    "\n",
    "rfecv_train = selecionador_rfecv.transform(X_train)\n",
    "rfecv_test = selecionador_rfecv.transform(X_test)\n",
    "\n",
    "lr.fit(rfecv_train, y_train)"
   ],
   "outputs": [
    {
     "output_type": "execute_result",
     "data": {
      "text/plain": [
       "LinearRegression()"
      ]
     },
     "metadata": {},
     "execution_count": 439
    }
   ],
   "metadata": {}
  },
  {
   "cell_type": "code",
   "execution_count": 440,
   "source": [
    "metricas(y_test, lr.predict(rfecv_test), 'V02')"
   ],
   "outputs": [
    {
     "output_type": "execute_result",
     "data": {
      "text/html": [
       "<div>\n",
       "<style scoped>\n",
       "    .dataframe tbody tr th:only-of-type {\n",
       "        vertical-align: middle;\n",
       "    }\n",
       "\n",
       "    .dataframe tbody tr th {\n",
       "        vertical-align: top;\n",
       "    }\n",
       "\n",
       "    .dataframe thead th {\n",
       "        text-align: right;\n",
       "    }\n",
       "</style>\n",
       "<table border=\"1\" class=\"dataframe\">\n",
       "  <thead>\n",
       "    <tr style=\"text-align: right;\">\n",
       "      <th></th>\n",
       "      <th>V02</th>\n",
       "    </tr>\n",
       "  </thead>\n",
       "  <tbody>\n",
       "    <tr>\n",
       "      <th>EAM</th>\n",
       "      <td>742640.29</td>\n",
       "    </tr>\n",
       "    <tr>\n",
       "      <th>EQM</th>\n",
       "      <td>1156501879094.19</td>\n",
       "    </tr>\n",
       "    <tr>\n",
       "      <th>REQM</th>\n",
       "      <td>1075407.77</td>\n",
       "    </tr>\n",
       "    <tr>\n",
       "      <th>R²</th>\n",
       "      <td>0.50</td>\n",
       "    </tr>\n",
       "  </tbody>\n",
       "</table>\n",
       "</div>"
      ],
      "text/plain": [
       "                  V02\n",
       "EAM         742640.29\n",
       "EQM  1156501879094.19\n",
       "REQM       1075407.77\n",
       "R²               0.50"
      ]
     },
     "metadata": {},
     "execution_count": 440
    }
   ],
   "metadata": {}
  },
  {
   "cell_type": "code",
   "execution_count": 441,
   "source": [
    "plt.figure(figsize=(10, 10))\n",
    "ax = sns.scatterplot(x=lr.predict(rfecv_test), y=y_test)\n",
    "ax.set_xlabel('Valores preditos')\n",
    "ax.set_ylabel('Valores de referência')"
   ],
   "outputs": [
    {
     "output_type": "execute_result",
     "data": {
      "text/plain": [
       "Text(0, 0.5, 'Valores de referência')"
      ]
     },
     "metadata": {},
     "execution_count": 441
    },
    {
     "output_type": "display_data",
     "data": {
      "image/png": "[encoded data removed]",
      "text/plain": [
       "<Figure size 720x720 with 1 Axes>"
      ]
     },
     "metadata": {}
    }
   ],
   "metadata": {}
  },
  {
   "cell_type": "code",
   "execution_count": 442,
   "source": [
    "resultados = pd.concat([resultados, metricas(y_test, lr.predict(rfecv_test), 'RFECV')], axis=1)\n",
    "resultados"
   ],
   "outputs": [
    {
     "output_type": "execute_result",
     "data": {
      "text/html": [
       "<div>\n",
       "<style scoped>\n",
       "    .dataframe tbody tr th:only-of-type {\n",
       "        vertical-align: middle;\n",
       "    }\n",
       "\n",
       "    .dataframe tbody tr th {\n",
       "        vertical-align: top;\n",
       "    }\n",
       "\n",
       "    .dataframe thead th {\n",
       "        text-align: right;\n",
       "    }\n",
       "</style>\n",
       "<table border=\"1\" class=\"dataframe\">\n",
       "  <thead>\n",
       "    <tr style=\"text-align: right;\">\n",
       "      <th></th>\n",
       "      <th>Baseline</th>\n",
       "      <th>V01</th>\n",
       "      <th>RFECV</th>\n",
       "    </tr>\n",
       "  </thead>\n",
       "  <tbody>\n",
       "    <tr>\n",
       "      <th>EAM</th>\n",
       "      <td>956753.38</td>\n",
       "      <td>744854.88</td>\n",
       "      <td>742640.29</td>\n",
       "    </tr>\n",
       "    <tr>\n",
       "      <th>EQM</th>\n",
       "      <td>1688502931752.25</td>\n",
       "      <td>1164386837731.90</td>\n",
       "      <td>1156501879094.19</td>\n",
       "    </tr>\n",
       "    <tr>\n",
       "      <th>REQM</th>\n",
       "      <td>1299424.08</td>\n",
       "      <td>1079067.58</td>\n",
       "      <td>1075407.77</td>\n",
       "    </tr>\n",
       "    <tr>\n",
       "      <th>R²</th>\n",
       "      <td>0.33</td>\n",
       "      <td>0.50</td>\n",
       "      <td>0.50</td>\n",
       "    </tr>\n",
       "  </tbody>\n",
       "</table>\n",
       "</div>"
      ],
      "text/plain": [
       "             Baseline              V01            RFECV\n",
       "EAM         956753.38        744854.88        742640.29\n",
       "EQM  1688502931752.25 1164386837731.90 1156501879094.19\n",
       "REQM       1299424.08       1079067.58       1075407.77\n",
       "R²               0.33             0.50             0.50"
      ]
     },
     "metadata": {},
     "execution_count": 442
    }
   ],
   "metadata": {}
  },
  {
   "cell_type": "markdown",
   "source": [
    "## Seleção de modelo"
   ],
   "metadata": {}
  },
  {
   "cell_type": "markdown",
   "source": [
    "# 05. Conclusões"
   ],
   "metadata": {}
  },
  {
   "cell_type": "markdown",
   "source": [
    "# Sugestões de melhoras"
   ],
   "metadata": {}
  },
  {
   "cell_type": "markdown",
   "source": [
    "# 06. Referências Bibliográficas"
   ],
   "metadata": {}
  },
  {
   "cell_type": "markdown",
   "source": [
    "## Dados\n",
    "\n",
    "- [Dados de anúncios de imóveis de São Paulo](\"https://gist.githubusercontent.com/tgcsantos/3bdb29eba6ce391e90df2b72205ba891/raw/22fa920e80c9fa209a9fccc8b52d74cc95d1599b/dados_imoveis.csv\")\n",
    "<br><br>\n",
    "- [Base de dados do ibge](https://gist.githubusercontent.com/tgcsantos/85f8c7b0a2edbc3e27fcad619b37d886/raw/a4954781e6bca9cb804062a3eea0b3b84679daf4/Basico_SP1.csv)\n",
    "<br><br>\n",
    "\n",
    "## Documentação das bibliotecas utilizadas\n",
    "\n",
    "- [Pandas](https://pandas.pydata.org/docs/)\n",
    "<br><br>\n",
    "- [Sklearn](https://scikit-learn.org/stable/)\n",
    "<br><br>\n",
    "- [Geopandas](https://geopandas.org/en/stable/docs.html)\n",
    "<br><br>\n",
    "\n",
    "\n",
    "## Páginas e referências\n",
    "- Página da Alura: [https://www.alura.com.br/](https://www.alura.com.br/)\n",
    "<br><br>\n",
    "- Página da Escola de Dados: [https://escoladedados.org/](https://escoladedados.org/)\n",
    "<br><br>\n",
    "[[1]](https://escoladedados.org/tutoriais/analise-exploratoria-de-dados/) O que é Análise Exploratória de Dados\n",
    "<br><br>\n",
    "[[2]](https://towardsdatascience.com/detecting-and-treating-outliers-in-python-part-1-4ece5098b755) Detecting and Treating Outliers in Python\n",
    "<br><br>\n",
    "[[3]](https://pt.wikipedia.org/wiki/Histograma) Artigo sobre histograma\n",
    "<br><br>\n",
    "[[4]](https://drive.google.com/file/d/1WVTqfKtHOOk5X1AWaSOn6NLaO7cix2m4/view) Dicionário de dados do IBGE, página 45, Arquivo Básico.\n",
    "<br><br>\n",
    "[[5]](https://www.alura.com.br/conteudo/expressoes-regulares?gclid=CjwKCAjws8yUBhA1EiwAi_tpEYmbYUlexxMoyOTmWZPW7mc6ZbrwsZR4DcrHIG1ShbNGkSW17LGV3BoC0lEQAvD_BwE) O que é uma Expressão Regular (RegEx)"
   ],
   "metadata": {}
  },
  {
   "cell_type": "markdown",
   "source": [
    "# 07. Agradecimentos\n",
    "\n",
    "Agradeço à Alura pela oportunidade de desenvolver meu conhecimento na área de Ciência de Dados. Isto inclui os meus sinceros agradecimentos aos professores Paulo Silveira, Thiago Gonçalves e Vivian Yamassaki."
   ],
   "metadata": {}
  },
  {
   "cell_type": "markdown",
   "source": [
    "# 08. Sobre mim"
   ],
   "metadata": {}
  },
  {
   "cell_type": "markdown",
   "source": [],
   "metadata": {}
  }
 ],
 "metadata": {
  "orig_nbformat": 4,
  "language_info": {
   "name": "python",
   "version": "3.8.3",
   "mimetype": "text/x-python",
   "codemirror_mode": {
    "name": "ipython",
    "version": 3
   },
   "pygments_lexer": "ipython3",
   "nbconvert_exporter": "python",
   "file_extension": ".py"
  },
  "kernelspec": {
   "name": "python3",
   "display_name": "Python 3.8.3 64-bit ('base': conda)"
  },
  "interpreter": {
   "hash": "0e37f8b5187a005d5c39140e5c1b27d22840e7060e442bd6aa4a7c0a35643177"
  }
 },
 "nbformat": 4,
 "nbformat_minor": 2
}